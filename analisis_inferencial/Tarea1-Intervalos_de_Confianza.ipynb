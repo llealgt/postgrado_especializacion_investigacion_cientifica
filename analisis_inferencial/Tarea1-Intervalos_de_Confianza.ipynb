{
 "cells": [
  {
   "cell_type": "code",
   "execution_count": 1,
   "metadata": {},
   "outputs": [],
   "source": [
    "import pandas as pd\n",
    "import numpy as np\n",
    "import scipy.stats as stats"
   ]
  },
  {
   "cell_type": "markdown",
   "metadata": {},
   "source": [
    "## Leer los datos\n",
    "\n",
    "Primero leemos los datos del archivo de excel y creamos las tablas necesarias con ellos."
   ]
  },
  {
   "cell_type": "code",
   "execution_count": 2,
   "metadata": {},
   "outputs": [],
   "source": [
    "hoja_ejercicio1 = pd.read_excel(\"./Tarea 1 - Inferencia estadística.xlsx\",sheet_name=\"Ejercicio 1\")\n",
    "hoja_ejercicio2 = pd.read_excel(\"./Tarea 1 - Inferencia estadística.xlsx\",sheet_name=\"Ejercicio 2\")\n",
    "hoja_ejercicio3 = pd.read_excel(\"./Tarea 1 - Inferencia estadística.xlsx\",sheet_name=\"Ejercicio 3\")\n",
    "\n",
    "columnas = [\"No. Individuo\",\"cincunferencia abdominal (cm)\"]\n",
    "\n",
    "tabla1 = hoja_ejercicio1.iloc[1:,0:2]\n",
    "tabla1.columns = columnas\n",
    "\n",
    "tabla2 = hoja_ejercicio1.iloc[1:36,3:5]\n",
    "tabla2.columns = columnas\n",
    "\n",
    "tabla3 = hoja_ejercicio2.iloc[1:17,:2]\n",
    "tabla3.columns = columnas\n",
    "\n",
    "tabla4 = hoja_ejercicio3.iloc[1:20,:3]\n",
    "tabla4.columns = columnas + [\"Mayor a 75\"]"
   ]
  },
  {
   "cell_type": "markdown",
   "metadata": {},
   "source": [
    "## Ejercicio 1\n",
    "\n",
    "Para el ejercicio 1 usamos la Tabla 1 y la Tabla 2, siendo tabla 1 la población y tabla 2 una muestra. El ejercicio esta dividido en 3 problemas."
   ]
  },
  {
   "cell_type": "markdown",
   "metadata": {},
   "source": [
    "### Ejercicio1 problema 1\n",
    "1. La información presentada pertenece a población de estudiantes de Investigación científica seccion C. En la tabla 2 se extrajo una muestra aleatoria de 35 estudiantes. Calcule el intervalo de confianza para la media (confianza 90%)."
   ]
  },
  {
   "cell_type": "code",
   "execution_count": 3,
   "metadata": {},
   "outputs": [],
   "source": [
    "media_muestra = tabla2.iloc[:,1].mean()\n",
    "media_poblacion = tabla1.iloc[:,1].mean()\n",
    "desviacion_standar_muestra = tabla2.iloc[:,1].std()\n",
    "desviacion_estandar_poblacion = tabla1.iloc[:,1].std()\n",
    "n = tabla2.iloc[:,1].count()\n",
    "confianza = 0.90\n",
    "significancia = 1.0 - confianza\n",
    "significancia_medios = significancia/2.0\n",
    "z =  abs(stats.norm.ppf(significancia_medios)) \n",
    "\n",
    "lim_inf = media_muestra  - z*(desviacion_estandar_poblacion/n)\n",
    "lim_sup = media_muestra  + z*(desviacion_estandar_poblacion/n)"
   ]
  },
  {
   "cell_type": "markdown",
   "metadata": {},
   "source": [
    "El intervalo de confianza con desviación de población conocida  para un nivel de confianza del 90% es:"
   ]
  },
  {
   "cell_type": "code",
   "execution_count": 4,
   "metadata": {},
   "outputs": [
    {
     "name": "stdout",
     "output_type": "stream",
     "text": [
      "Limite inferior: 79.44996244302611 limite superior: 80.87575184268819\n"
     ]
    }
   ],
   "source": [
    "print(\"Limite inferior:\",lim_inf,\"limite superior:\",lim_sup)"
   ]
  },
  {
   "cell_type": "markdown",
   "metadata": {},
   "source": [
    "### Ejercicio 1 problema 2\n",
    "\n",
    "2. Suponga que no posee los datos de la población (tabla 1) y encuentre el intervalo de confianza para la media con base en la muestra de la tabla 2 (confianza 90%)."
   ]
  },
  {
   "cell_type": "code",
   "execution_count": 5,
   "metadata": {},
   "outputs": [],
   "source": [
    "lim_inf = media_muestra - z*(desviacion_standar_muestra/n)\n",
    "lim_sup = media_muestra + z*(desviacion_standar_muestra/n)"
   ]
  },
  {
   "cell_type": "markdown",
   "metadata": {},
   "source": [
    "El intervalo de confianza con desviación de población desconocida para un nivel de confianza del 90% es:"
   ]
  },
  {
   "cell_type": "code",
   "execution_count": 6,
   "metadata": {},
   "outputs": [
    {
     "name": "stdout",
     "output_type": "stream",
     "text": [
      "Limite inferior: 79.68060708439687 limite superior: 80.64510720131743\n"
     ]
    }
   ],
   "source": [
    "print(\"Limite inferior:\",lim_inf,\"limite superior:\",lim_sup)"
   ]
  },
  {
   "cell_type": "markdown",
   "metadata": {},
   "source": [
    "### Ejercicio 1 problema 3\n",
    "3. Con los datos de la tabla 2 obtenga el intervalo de confianza para la mediana (confianza 90%)."
   ]
  },
  {
   "cell_type": "code",
   "execution_count": 7,
   "metadata": {},
   "outputs": [],
   "source": [
    "muestra_ordenada = sorted(tabla2.iloc[:,1]) #primero ordenar la muestra\n",
    "\n",
    "posicion_limite_inf = int(np.round(n/2 - (z*np.sqrt(n))/2))  -  1# se encuentra la posición del limite inferior\n",
    "posicion_limit_sup =  int(np.round(1 + (n/2) + (z*np.sqrt(n))/2)) - 1  #se encuentra la posición del limite superior"
   ]
  },
  {
   "cell_type": "markdown",
   "metadata": {},
   "source": [
    "El intervalo de confianza para la mediana a un nivel de confianza  de 90% es :"
   ]
  },
  {
   "cell_type": "code",
   "execution_count": 8,
   "metadata": {},
   "outputs": [
    {
     "name": "stdout",
     "output_type": "stream",
     "text": [
      "Limite inf: 76 limite sup: 82.7\n"
     ]
    }
   ],
   "source": [
    "print(\"Limite inf:\",muestra_ordenada[posicion_limite_inf],\"limite sup:\",muestra_ordenada[posicion_limit_sup])"
   ]
  },
  {
   "cell_type": "markdown",
   "metadata": {},
   "source": [
    "## Ejercicio 2\n",
    "\n",
    "Para el ejercicio 2 se usa la tabal 3 , que es una muestra de la población\n",
    "\n",
    "### Ejercicio 2 problema 1\n",
    "\n",
    "1. La información presentada pertenece a población de estudiantes de Investigación científica seccion C. En la tabla 3 se extrajo una muestra aleatoria de 16 estudiantes. Calcule el intervalo de confianza para la media (confianza 95%)."
   ]
  },
  {
   "cell_type": "code",
   "execution_count": 9,
   "metadata": {},
   "outputs": [],
   "source": [
    "media_muestra = tabla3.iloc[:,1].mean()\n",
    "n = tabla3.iloc[:,1].count()\n",
    "desviacion_muestra = tabla3.iloc[:,1].std()\n",
    "grados_libertad = n - 1\n",
    "\n",
    "confianza = 0.95\n",
    "significancia = 1 - confianza\n",
    "significancia_medios = significancia/2.0\n",
    "\n",
    "t = abs(stats.t.ppf(significancia_medios,grados_libertad))\n",
    "\n",
    "lim_inf = media_muestra - t*(desviacion_muestra/np.sqrt(n))\n",
    "lim_sup = media_muestra + t*(desviacion_muestra/np.sqrt(n))"
   ]
  },
  {
   "cell_type": "markdown",
   "metadata": {},
   "source": [
    "El intervalo de confianza para la media a una confianza de 95% usando t-student es:"
   ]
  },
  {
   "cell_type": "code",
   "execution_count": 10,
   "metadata": {},
   "outputs": [
    {
     "name": "stdout",
     "output_type": "stream",
     "text": [
      "Lim inf: 76.86458399124089  lim sup: 91.72291600875911\n"
     ]
    }
   ],
   "source": [
    "print(\"Lim inf:\",lim_inf,\" lim sup:\",lim_sup)"
   ]
  },
  {
   "cell_type": "markdown",
   "metadata": {},
   "source": [
    "### Ejercicio 2 problema 2\n",
    "2. Con los datos de la tabla 3 obtenga el intervalo de confianza para la varianza (confianza 90%). "
   ]
  },
  {
   "cell_type": "code",
   "execution_count": 11,
   "metadata": {},
   "outputs": [],
   "source": [
    "n = tabla3.iloc[:,1].count()\n",
    "varianza_muestral = desviacion_muestra = tabla3.iloc[:,1].var()\n",
    "confianza = 0.9\n",
    "significancia = 1 - confianza\n",
    "significancia_medios = significancia/2.0\n",
    "grados_libertad = n - 1\n",
    "\n",
    "chi_cuadrado_alfa_medios = abs(stats.chi2.ppf(significancia_medios,grados_libertad))\n",
    "chi_cuadrado_uno_menos_alfa_medios = abs(stats.chi2.ppf(1- significancia_medios,grados_libertad))\n",
    "\n",
    "lim_inf = (grados_libertad*varianza_muestral)/chi_cuadrado_uno_menos_alfa_medios\n",
    "lim_sup = (grados_libertad*varianza_muestral)/chi_cuadrado_alfa_medios"
   ]
  },
  {
   "cell_type": "markdown",
   "metadata": {},
   "source": [
    "El intervalo de confianza para la varianza  con una confianza  del 90% usando chi-cuadrado es"
   ]
  },
  {
   "cell_type": "code",
   "execution_count": 12,
   "metadata": {},
   "outputs": [
    {
     "name": "stdout",
     "output_type": "stream",
     "text": [
      "lim inf: 116.64721773950916 lim sup: 401.5578971611225\n"
     ]
    }
   ],
   "source": [
    "print(\"lim inf:\",lim_inf,\"lim sup:\",lim_sup)"
   ]
  },
  {
   "cell_type": "markdown",
   "metadata": {},
   "source": [
    "## Ejercicio 3\n",
    "\n",
    "Para ele ejercicio 3 usamos la tabla 4 que contiene una variable a dicional \"mayor a 75\" con un valor de 1 cuando la circunferencia abdomial es mayor a 75  y 0 en caso contrario\n",
    "\n",
    "**nota** matemáticamente sacar la proporción de una variable que contiene solo 0s y 1s es equivalente a sacar el promedio de esta variable."
   ]
  },
  {
   "cell_type": "code",
   "execution_count": 13,
   "metadata": {},
   "outputs": [],
   "source": [
    "n = tabla4[\"No. Individuo\"].count()\n",
    "p = tabla4[\"Mayor a 75\"].mean()\n",
    "sp = np.sqrt(p*(1-p)/n)\n",
    "confianza = 0.95\n",
    "significancia = 1 - confianza\n",
    "significancia_medios = significancia / 2.0\n",
    "\n",
    "z = abs(stats.norm.ppf(significancia_medios))\n",
    "\n",
    "limite_inferior = p - z*sp\n",
    "limite_superior = p + z*sp"
   ]
  },
  {
   "cell_type": "markdown",
   "metadata": {},
   "source": [
    "El intervalo de confianza  para la proporción a una confianza del 95% es:"
   ]
  },
  {
   "cell_type": "code",
   "execution_count": 14,
   "metadata": {},
   "outputs": [
    {
     "name": "stdout",
     "output_type": "stream",
     "text": [
      "lim inf: 0.5378276748607178 lim sup: 0.9621723251392822\n"
     ]
    }
   ],
   "source": [
    "print(\"lim inf:\",limite_inferior,\"lim sup:\",limite_superior)"
   ]
  },
  {
   "cell_type": "code",
   "execution_count": null,
   "metadata": {},
   "outputs": [],
   "source": []
  }
 ],
 "metadata": {
  "kernelspec": {
   "display_name": "Python 3",
   "language": "python",
   "name": "python3"
  },
  "language_info": {
   "codemirror_mode": {
    "name": "ipython",
    "version": 3
   },
   "file_extension": ".py",
   "mimetype": "text/x-python",
   "name": "python",
   "nbconvert_exporter": "python",
   "pygments_lexer": "ipython3",
   "version": "3.6.6"
  }
 },
 "nbformat": 4,
 "nbformat_minor": 2
}
