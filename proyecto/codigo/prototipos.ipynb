{
 "cells": [
  {
   "cell_type": "code",
   "execution_count": 1,
   "metadata": {},
   "outputs": [],
   "source": [
    "import numpy as np\n",
    "import matplotlib.pyplot as plt\n",
    "import matplotlib.image as mpimg\n",
    "import pandas as pd\n",
    "import torch as torch\n",
    "import os\n",
    "import torch.optim as optim\n",
    "import torch.nn.functional as F\n",
    "import torch.nn as nn"
   ]
  },
  {
   "cell_type": "code",
   "execution_count": 2,
   "metadata": {},
   "outputs": [],
   "source": [
    "DATA_DIRECTORY = \"../datos/\""
   ]
  },
  {
   "cell_type": "code",
   "execution_count": 3,
   "metadata": {},
   "outputs": [],
   "source": [
    "diagnosticos  = pd.read_excel(DATA_DIRECTORY+\"RESUMEN TAC CEREBRALES.xlsx\")"
   ]
  },
  {
   "cell_type": "code",
   "execution_count": 4,
   "metadata": {},
   "outputs": [],
   "source": [
    "# diccionario cuya llave es el id de paciente y el valor una lista \n",
    "# donde cada elemento de la lista es la matriz de una i\n",
    "diccionario_imagenes_pacientes = dict()\n",
    "\n",
    "for paciente in diagnosticos.paciente:\n",
    "    directorio_paciente = DATA_DIRECTORY+\"paciente_\"+str(paciente)\n",
    "    archivos_paciente = os.listdir(directorio_paciente)\n",
    "    \n",
    "    lista_imagenes_paciente = []\n",
    "    for archivo in archivos_paciente:\n",
    "        if archivo.endswith(\".jpg\"):\n",
    "            imagen = mpimg.imread(directorio_paciente+\"/\"+archivo)\n",
    "            lista_imagenes_paciente.append(imagen)\n",
    "            \n",
    "    diccionario_imagenes_pacientes[paciente] = lista_imagenes_paciente\n",
    "    "
   ]
  },
  {
   "cell_type": "markdown",
   "metadata": {},
   "source": [
    "## Modelos y arquitecturas\n",
    "### Arquitecturas experimental  DNC\n",
    "* Alimentamos al modelo imagen por imagen y se presenta un solo diagnostico por paciente\n",
    "* El controller de la DNC esta compuesto por una convnet"
   ]
  },
  {
   "cell_type": "code",
   "execution_count": 5,
   "metadata": {},
   "outputs": [],
   "source": [
    "CONTROLLER_OUTPUT_SIZE = 1024"
   ]
  },
  {
   "cell_type": "code",
   "execution_count": 6,
   "metadata": {},
   "outputs": [],
   "source": [
    "#TODO: cambiar valores quemados por valores parametrizados y calculos dependientes\n",
    "class ConvController(torch.nn.Module):\n",
    "    \n",
    "    def __init__(self):\n",
    "        super().__init__()\n",
    "        self.conv1 = torch.nn.Conv2d(1,4,kernel_size=3,stride=1)\n",
    "        self.fc1  =  torch.nn.Linear(262144,CONTROLLER_OUTPUT_SIZE)\n",
    "        \n",
    "    def forward(self,x):\n",
    "        h = self.conv1(x)\n",
    "        \n",
    "        #flatten\n",
    "        h =  x.view(-1,x.shape[1]*x.shape[2]*x.shape[3])\n",
    "        h =  self.fc1(h)\n",
    "        \n",
    "        return h"
   ]
  },
  {
   "cell_type": "code",
   "execution_count": 7,
   "metadata": {},
   "outputs": [],
   "source": [
    "#TODO: cambiar valores quemados por valores parametrizados y calculos dependientes\n",
    "#TODO: cordar por que en algun momento le puse bias = False a los pesos del vector de salida de la DNC\n",
    "class DNC(torch.nn.Module):\n",
    "    \n",
    "    def __init__(self,controller,memory_size = (10,10),read_heads = 1):\n",
    "        super().__init__()\n",
    "        self.controller = controller\n",
    "        self.N = memory_size[0] # number of memory locations\n",
    "        self.W = memory_size[1] # word size of the memory \n",
    "        self.R = read_heads # number of read heads\n",
    "        self.WS = 1 #not in the paper(they use 1), but used as a parametrizable number of write heads for further experiments\n",
    "        self.interface_vector_size = (self.W*self.R) + (self.W*self.WS) + (2*self.W) + (5*self.R) + 3\n",
    "        \n",
    "        # inicialization st to random just for testing, remember to put on zeros\n",
    "        self.memory_matrix = self.memory_matrix =  nn.Parameter(torch.randn(size=memory_size),requires_grad= False) \n",
    "        \n",
    "        #1024 es el tamaño del vector de salida del controlador, 1 es el tamaño de salida de la dnc\n",
    "        self.output_vector_linear = torch.nn.Linear(CONTROLLER_OUTPUT_SIZE,1,bias=False) #W_y \n",
    "        self.interface_vector_linear = torch.nn.Linear(CONTROLLER_OUTPUT_SIZE,self.interface_vector_size,bias=False) #W_ξ\n",
    "        self.read_vectors_to_output_linear = torch.nn.Linear(self.R*self.W,1,bias = False) #W_r in my txt\n",
    "        \n",
    "        self.read_keys = torch.Tensor(size=(self.R,self.W)).requires_grad_(False) # k_r in my txt\n",
    "        self.read_strenghts = torch.Tensor(size=(self.R,1)).requires_grad_(False) #β_r\n",
    "        \n",
    "    def forward(self,x):\n",
    "        h_t = self.controller(x) #controller output called ht in the paper\n",
    "        \n",
    "        output_vector = self.output_vector_linear(h_t) # called Vt in the paper(υ=Wy[h1;...;hL]) v_o_t in my txt\n",
    "        interface_vector = self.interface_vector_linear(h_t).data #called ξt(ksi) in the paper ,ξ_t in my txt\n",
    "        \n",
    "        self.read_keys.data = interface_vector[0,0:self.R*self.W].view((self.R,self.W)) #k_r in my txt\n",
    "        \n",
    "        #clamp temporary added because the exp was returning inf  values\n",
    "        read_strenghts =  torch.clamp( interface_vector[0,self.R*self.W:self.R*self.W+self.R].view((self.R,1)),max=85)\n",
    "        self.read_strenghts.data = self.oneplus(read_strenghts) #β_r\n",
    "        \n",
    "        # read by content weithing(attention by similarity)\n",
    "        read_content_weighting = self.content_lookup(self.memory_matrix,self.read_keys,self.read_strenghts)\n",
    "        \n",
    "        #read weithing is a combination of reading modes,TODO:add temporal attention not just by similarity\n",
    "        read_weighting = read_content_weighting\n",
    "        \n",
    "        read_vectors = torch.matmul(read_weighting,self.memory_matrix).view((1,self.R*self.W)) #r in my txt\n",
    "        read_heads_to_output = self.read_vectors_to_output_linear(read_vectors) #v_r_t in my t xt\n",
    "        \n",
    "        #TODO: experiment and decide if maintain sigmoid\n",
    "        y_t = F.sigmoid(output_vector + read_heads_to_output)\n",
    "        return y_t\n",
    "    \n",
    "    def oneplus(self,x):\n",
    "        # apply oneplus operation to a tensor to constrain it's elements to [1,inf)\n",
    "        #TODO: check numerical statiliby as exp is returning inf for numbers like 710,emporary added clamp to 85\n",
    "        return torch.log(1+torch.exp(x)) + 1\n",
    "    \n",
    "    def content_lookup(self,matrix,keys,strengths):\n",
    "        # returns a probability distribution over the memory locations \n",
    "        # with higher probability to memory locations with bigger similarity to the keys\n",
    "        # bigger strenght make more aggresive distributions ,for example a distribution (0.2,0.3,0.5) with\n",
    "        # bigger strenght becomes (0.1,0.12,0.78)\n",
    "        # returns tensor of shape (read keys,memory size) = (R,N)\n",
    "        keys_norm =  torch.sqrt(torch.sum(keys**2,dim=1).unsqueeze(dim=1))\n",
    "        matrix_norm = torch.sqrt(torch.sum(matrix**2,dim=1))\n",
    "        norms_multiplication = keys_norm*matrix_norm\n",
    "        # calc cosine similarity between keys and memory locations(1e-6 is used avoiding div by 0)\n",
    "        divide_zero_prevent_factor = torch.zeros_like(norms_multiplication,requires_grad=False).add_(1e-6)\n",
    "        cosine_similarity = torch.matmul(keys,matrix.t())/(torch.max(norms_multiplication,divide_zero_prevent_factor))\n",
    "        \n",
    "        # do a \"strenght\" softmax to calculate the probability distribution\n",
    "        numerator = torch.exp(cosine_similarity*strengths)\n",
    "        denominator = numerator.sum(dim=1).unsqueeze(dim=1)\n",
    "\n",
    "        distribution = numerator/denominator\n",
    "        \n",
    "        return distribution"
   ]
  },
  {
   "cell_type": "code",
   "execution_count": 8,
   "metadata": {},
   "outputs": [
    {
     "data": {
      "text/plain": [
       "tensor([[8.2230e+36, 8.2230e+36, 8.2230e+36],\n",
       "        [8.2230e+36, 8.2230e+36, 8.2230e+36]])"
      ]
     },
     "execution_count": 8,
     "metadata": {},
     "output_type": "execute_result"
    }
   ],
   "source": [
    "torch.exp(torch.clamp(torch.Tensor(torch.full((2,3),1000)),max=85))"
   ]
  },
  {
   "cell_type": "code",
   "execution_count": 9,
   "metadata": {},
   "outputs": [
    {
     "data": {
      "text/plain": [
       "1.4035922178528375e+217"
      ]
     },
     "execution_count": 9,
     "metadata": {},
     "output_type": "execute_result"
    }
   ],
   "source": [
    "np.exp(500)"
   ]
  },
  {
   "cell_type": "markdown",
   "metadata": {},
   "source": [
    "## Experimentos\n",
    "* Experimentando con DNC alimentando una imagen a la vez en orden aleatorio con pacientes también en orden aleatorio"
   ]
  },
  {
   "cell_type": "code",
   "execution_count": 10,
   "metadata": {},
   "outputs": [],
   "source": [
    "device = torch.device(\"cuda:0\" if torch.cuda.is_available() else \"cpu\")"
   ]
  },
  {
   "cell_type": "code",
   "execution_count": 11,
   "metadata": {},
   "outputs": [],
   "source": [
    "EPOCHS = 2"
   ]
  },
  {
   "cell_type": "code",
   "execution_count": 12,
   "metadata": {},
   "outputs": [],
   "source": [
    "conv_controller = ConvController()\n",
    "dnc_model = DNC(controller=conv_controller,memory_size = (4,4),read_heads=2).to(device)"
   ]
  },
  {
   "cell_type": "code",
   "execution_count": 13,
   "metadata": {},
   "outputs": [],
   "source": [
    "def loss_function(y,y_hat,last_flag):\n",
    "    #print(y,y_hat,last_flag)\n",
    "    base_criterion = torch.nn.BCELoss()\n",
    "    return torch.full_like(y,last_flag) * base_criterion(y,y_hat)"
   ]
  },
  {
   "cell_type": "code",
   "execution_count": 14,
   "metadata": {},
   "outputs": [],
   "source": [
    "criterion = loss_function\n",
    "optimizer = optim.Adam(dnc_model.parameters(),lr=0.001)"
   ]
  },
  {
   "cell_type": "code",
   "execution_count": 15,
   "metadata": {},
   "outputs": [
    {
     "name": "stdout",
     "output_type": "stream",
     "text": [
      "Alimentando paciente 1 e imagen 16 al modelo\n",
      "Alimentando paciente 1 e imagen 5 al modelo\n",
      "Alimentando paciente 1 e imagen 2 al modelo\n",
      "Alimentando paciente 1 e imagen 8 al modelo\n"
     ]
    },
    {
     "name": "stderr",
     "output_type": "stream",
     "text": [
      "/home/luis/anaconda2/envs/pytorch_challenge/lib/python3.6/site-packages/torch/nn/functional.py:1332: UserWarning: nn.functional.sigmoid is deprecated. Use torch.sigmoid instead.\n",
      "  warnings.warn(\"nn.functional.sigmoid is deprecated. Use torch.sigmoid instead.\")\n",
      "/home/luis/anaconda2/envs/pytorch_challenge/lib/python3.6/site-packages/torch/nn/functional.py:2016: UserWarning: Using a target size (torch.Size([])) that is different to the input size (torch.Size([1, 1])) is deprecated. Please ensure they have the same size.\n",
      "  \"Please ensure they have the same size.\".format(target.size(), input.size()))\n"
     ]
    },
    {
     "name": "stdout",
     "output_type": "stream",
     "text": [
      "Alimentando paciente 1 e imagen 3 al modelo\n",
      "Alimentando paciente 1 e imagen 4 al modelo\n",
      "Alimentando paciente 1 e imagen 6 al modelo\n",
      "Alimentando paciente 1 e imagen 1 al modelo\n",
      "Alimentando paciente 1 e imagen 14 al modelo\n",
      "Alimentando paciente 1 e imagen 20 al modelo\n",
      "Alimentando paciente 1 e imagen 10 al modelo\n",
      "Alimentando paciente 1 e imagen 11 al modelo\n",
      "Alimentando paciente 1 e imagen 0 al modelo\n",
      "Alimentando paciente 1 e imagen 18 al modelo\n",
      "Alimentando paciente 1 e imagen 9 al modelo\n",
      "Alimentando paciente 1 e imagen 12 al modelo\n",
      "Alimentando paciente 1 e imagen 23 al modelo\n",
      "Alimentando paciente 1 e imagen 15 al modelo\n",
      "Alimentando paciente 1 e imagen 19 al modelo\n",
      "Alimentando paciente 1 e imagen 22 al modelo\n",
      "Alimentando paciente 1 e imagen 17 al modelo\n",
      "Alimentando paciente 1 e imagen 21 al modelo\n",
      "Alimentando paciente 1 e imagen 7 al modelo\n",
      "Alimentando paciente 1 e imagen 13 al modelo\n",
      "tensor([[0.]]) tensor([[1.]])\n",
      "Alimentando paciente 4 e imagen 5 al modelo\n",
      "Alimentando paciente 4 e imagen 13 al modelo\n",
      "Alimentando paciente 4 e imagen 4 al modelo\n",
      "Alimentando paciente 4 e imagen 6 al modelo\n",
      "Alimentando paciente 4 e imagen 7 al modelo\n",
      "Alimentando paciente 4 e imagen 11 al modelo\n",
      "Alimentando paciente 4 e imagen 12 al modelo\n",
      "Alimentando paciente 4 e imagen 1 al modelo\n",
      "Alimentando paciente 4 e imagen 2 al modelo\n",
      "Alimentando paciente 4 e imagen 10 al modelo\n",
      "Alimentando paciente 4 e imagen 3 al modelo\n",
      "Alimentando paciente 4 e imagen 9 al modelo\n",
      "Alimentando paciente 4 e imagen 8 al modelo\n",
      "Alimentando paciente 4 e imagen 0 al modelo\n",
      "tensor([[27.6310]]) tensor([[1.]])\n",
      "Alimentando paciente 3 e imagen 23 al modelo\n",
      "Alimentando paciente 3 e imagen 4 al modelo\n",
      "Alimentando paciente 3 e imagen 15 al modelo\n",
      "Alimentando paciente 3 e imagen 2 al modelo\n",
      "Alimentando paciente 3 e imagen 11 al modelo\n",
      "Alimentando paciente 3 e imagen 7 al modelo\n",
      "Alimentando paciente 3 e imagen 8 al modelo\n",
      "Alimentando paciente 3 e imagen 16 al modelo\n",
      "Alimentando paciente 3 e imagen 5 al modelo\n",
      "Alimentando paciente 3 e imagen 12 al modelo\n",
      "Alimentando paciente 3 e imagen 19 al modelo\n",
      "Alimentando paciente 3 e imagen 10 al modelo\n",
      "Alimentando paciente 3 e imagen 0 al modelo\n",
      "Alimentando paciente 3 e imagen 21 al modelo\n",
      "Alimentando paciente 3 e imagen 20 al modelo\n",
      "Alimentando paciente 3 e imagen 3 al modelo\n",
      "Alimentando paciente 3 e imagen 9 al modelo\n",
      "Alimentando paciente 3 e imagen 6 al modelo\n",
      "Alimentando paciente 3 e imagen 1 al modelo\n",
      "Alimentando paciente 3 e imagen 13 al modelo\n",
      "Alimentando paciente 3 e imagen 14 al modelo\n",
      "Alimentando paciente 3 e imagen 17 al modelo\n",
      "Alimentando paciente 3 e imagen 18 al modelo\n",
      "Alimentando paciente 3 e imagen 22 al modelo\n",
      "tensor([[11.8540]]) tensor([[7.1099e-06]])\n",
      "Alimentando paciente 2 e imagen 14 al modelo\n",
      "Alimentando paciente 2 e imagen 3 al modelo\n",
      "Alimentando paciente 2 e imagen 13 al modelo\n",
      "Alimentando paciente 2 e imagen 18 al modelo\n",
      "Alimentando paciente 2 e imagen 15 al modelo\n",
      "Alimentando paciente 2 e imagen 6 al modelo\n",
      "Alimentando paciente 2 e imagen 9 al modelo\n",
      "Alimentando paciente 2 e imagen 22 al modelo\n",
      "Alimentando paciente 2 e imagen 2 al modelo\n",
      "Alimentando paciente 2 e imagen 17 al modelo\n",
      "Alimentando paciente 2 e imagen 23 al modelo\n",
      "Alimentando paciente 2 e imagen 12 al modelo\n",
      "Alimentando paciente 2 e imagen 10 al modelo\n",
      "Alimentando paciente 2 e imagen 19 al modelo\n",
      "Alimentando paciente 2 e imagen 7 al modelo\n",
      "Alimentando paciente 2 e imagen 4 al modelo\n",
      "Alimentando paciente 2 e imagen 5 al modelo\n",
      "Alimentando paciente 2 e imagen 8 al modelo\n",
      "Alimentando paciente 2 e imagen 21 al modelo\n",
      "Alimentando paciente 2 e imagen 0 al modelo\n",
      "Alimentando paciente 2 e imagen 16 al modelo\n",
      "Alimentando paciente 2 e imagen 1 al modelo\n",
      "Alimentando paciente 2 e imagen 11 al modelo\n",
      "Alimentando paciente 2 e imagen 20 al modelo\n",
      "tensor([[0.]]) tensor([[1.]])\n",
      "Alimentando paciente 5 e imagen 4 al modelo\n",
      "Alimentando paciente 5 e imagen 1 al modelo\n",
      "Alimentando paciente 5 e imagen 13 al modelo\n",
      "Alimentando paciente 5 e imagen 11 al modelo\n",
      "Alimentando paciente 5 e imagen 2 al modelo\n",
      "Alimentando paciente 5 e imagen 6 al modelo\n",
      "Alimentando paciente 5 e imagen 3 al modelo\n",
      "Alimentando paciente 5 e imagen 5 al modelo\n",
      "Alimentando paciente 5 e imagen 0 al modelo\n",
      "Alimentando paciente 5 e imagen 10 al modelo\n",
      "Alimentando paciente 5 e imagen 8 al modelo\n",
      "Alimentando paciente 5 e imagen 7 al modelo\n",
      "Alimentando paciente 5 e imagen 12 al modelo\n",
      "Alimentando paciente 5 e imagen 9 al modelo\n",
      "tensor([[27.6310]]) tensor([[1.]])\n",
      "Alimentando paciente 3 e imagen 18 al modelo\n",
      "Alimentando paciente 3 e imagen 19 al modelo\n",
      "Alimentando paciente 3 e imagen 2 al modelo\n",
      "Alimentando paciente 3 e imagen 21 al modelo\n",
      "Alimentando paciente 3 e imagen 9 al modelo\n",
      "Alimentando paciente 3 e imagen 15 al modelo\n",
      "Alimentando paciente 3 e imagen 6 al modelo\n",
      "Alimentando paciente 3 e imagen 7 al modelo\n",
      "Alimentando paciente 3 e imagen 11 al modelo\n",
      "Alimentando paciente 3 e imagen 5 al modelo\n",
      "Alimentando paciente 3 e imagen 1 al modelo\n",
      "Alimentando paciente 3 e imagen 8 al modelo\n",
      "Alimentando paciente 3 e imagen 20 al modelo\n",
      "Alimentando paciente 3 e imagen 12 al modelo\n",
      "Alimentando paciente 3 e imagen 22 al modelo\n",
      "Alimentando paciente 3 e imagen 10 al modelo\n",
      "Alimentando paciente 3 e imagen 23 al modelo\n",
      "Alimentando paciente 3 e imagen 14 al modelo\n",
      "Alimentando paciente 3 e imagen 17 al modelo\n",
      "Alimentando paciente 3 e imagen 13 al modelo\n",
      "Alimentando paciente 3 e imagen 4 al modelo\n",
      "Alimentando paciente 3 e imagen 3 al modelo\n",
      "Alimentando paciente 3 e imagen 0 al modelo\n",
      "Alimentando paciente 3 e imagen 16 al modelo\n",
      "tensor([[0.]]) tensor([[1.]])\n",
      "Alimentando paciente 4 e imagen 0 al modelo\n",
      "Alimentando paciente 4 e imagen 10 al modelo\n",
      "Alimentando paciente 4 e imagen 9 al modelo\n",
      "Alimentando paciente 4 e imagen 11 al modelo\n",
      "Alimentando paciente 4 e imagen 4 al modelo\n",
      "Alimentando paciente 4 e imagen 6 al modelo\n",
      "Alimentando paciente 4 e imagen 3 al modelo\n",
      "Alimentando paciente 4 e imagen 13 al modelo\n",
      "Alimentando paciente 4 e imagen 7 al modelo\n",
      "Alimentando paciente 4 e imagen 12 al modelo\n",
      "Alimentando paciente 4 e imagen 2 al modelo\n",
      "Alimentando paciente 4 e imagen 5 al modelo\n",
      "Alimentando paciente 4 e imagen 1 al modelo\n",
      "Alimentando paciente 4 e imagen 8 al modelo\n",
      "tensor([[27.6310]]) tensor([[1.]])\n",
      "Alimentando paciente 2 e imagen 19 al modelo\n",
      "Alimentando paciente 2 e imagen 15 al modelo\n",
      "Alimentando paciente 2 e imagen 11 al modelo\n",
      "Alimentando paciente 2 e imagen 6 al modelo\n",
      "Alimentando paciente 2 e imagen 2 al modelo\n",
      "Alimentando paciente 2 e imagen 22 al modelo\n",
      "Alimentando paciente 2 e imagen 21 al modelo\n",
      "Alimentando paciente 2 e imagen 12 al modelo\n",
      "Alimentando paciente 2 e imagen 9 al modelo\n",
      "Alimentando paciente 2 e imagen 7 al modelo\n",
      "Alimentando paciente 2 e imagen 23 al modelo\n",
      "Alimentando paciente 2 e imagen 8 al modelo\n",
      "Alimentando paciente 2 e imagen 14 al modelo\n",
      "Alimentando paciente 2 e imagen 1 al modelo\n",
      "Alimentando paciente 2 e imagen 13 al modelo\n",
      "Alimentando paciente 2 e imagen 17 al modelo\n",
      "Alimentando paciente 2 e imagen 4 al modelo\n",
      "Alimentando paciente 2 e imagen 18 al modelo\n",
      "Alimentando paciente 2 e imagen 16 al modelo\n",
      "Alimentando paciente 2 e imagen 10 al modelo\n",
      "Alimentando paciente 2 e imagen 3 al modelo\n",
      "Alimentando paciente 2 e imagen 0 al modelo\n",
      "Alimentando paciente 2 e imagen 5 al modelo\n",
      "Alimentando paciente 2 e imagen 20 al modelo\n",
      "tensor([[0.]]) tensor([[1.]])\n",
      "Alimentando paciente 5 e imagen 11 al modelo\n",
      "Alimentando paciente 5 e imagen 5 al modelo\n",
      "Alimentando paciente 5 e imagen 13 al modelo\n",
      "Alimentando paciente 5 e imagen 10 al modelo\n",
      "Alimentando paciente 5 e imagen 9 al modelo\n",
      "Alimentando paciente 5 e imagen 2 al modelo\n",
      "Alimentando paciente 5 e imagen 1 al modelo\n",
      "Alimentando paciente 5 e imagen 0 al modelo\n",
      "Alimentando paciente 5 e imagen 7 al modelo\n",
      "Alimentando paciente 5 e imagen 4 al modelo\n",
      "Alimentando paciente 5 e imagen 8 al modelo\n",
      "Alimentando paciente 5 e imagen 12 al modelo\n",
      "Alimentando paciente 5 e imagen 3 al modelo\n",
      "Alimentando paciente 5 e imagen 6 al modelo\n",
      "tensor([[27.6310]]) tensor([[1.]])\n",
      "Alimentando paciente 1 e imagen 17 al modelo\n",
      "Alimentando paciente 1 e imagen 3 al modelo\n",
      "Alimentando paciente 1 e imagen 10 al modelo\n",
      "Alimentando paciente 1 e imagen 13 al modelo\n",
      "Alimentando paciente 1 e imagen 2 al modelo\n",
      "Alimentando paciente 1 e imagen 8 al modelo\n",
      "Alimentando paciente 1 e imagen 1 al modelo\n",
      "Alimentando paciente 1 e imagen 6 al modelo\n"
     ]
    },
    {
     "name": "stdout",
     "output_type": "stream",
     "text": [
      "Alimentando paciente 1 e imagen 11 al modelo\n",
      "Alimentando paciente 1 e imagen 18 al modelo\n",
      "Alimentando paciente 1 e imagen 9 al modelo\n",
      "Alimentando paciente 1 e imagen 21 al modelo\n",
      "Alimentando paciente 1 e imagen 14 al modelo\n",
      "Alimentando paciente 1 e imagen 0 al modelo\n",
      "Alimentando paciente 1 e imagen 23 al modelo\n",
      "Alimentando paciente 1 e imagen 20 al modelo\n",
      "Alimentando paciente 1 e imagen 22 al modelo\n",
      "Alimentando paciente 1 e imagen 12 al modelo\n",
      "Alimentando paciente 1 e imagen 5 al modelo\n",
      "Alimentando paciente 1 e imagen 15 al modelo\n",
      "Alimentando paciente 1 e imagen 16 al modelo\n",
      "Alimentando paciente 1 e imagen 7 al modelo\n",
      "Alimentando paciente 1 e imagen 19 al modelo\n",
      "Alimentando paciente 1 e imagen 4 al modelo\n",
      "tensor([[0.]]) tensor([[1.]])\n"
     ]
    }
   ],
   "source": [
    "for epoch in range(EPOCHS):\n",
    "    # en cada epoch procesar los pacientes en orden aleatorio\n",
    "    pacientes = np.random.choice(np.array(diagnosticos.paciente),size= len(diagnosticos.paciente),replace=False)\n",
    "    \n",
    "    for paciente in pacientes:\n",
    "        imagenes_paciente = diccionario_imagenes_pacientes.get(paciente)\n",
    "        diagnostico_hemorragia_paciente = np.array(float(diagnosticos[diagnosticos.paciente==paciente].hemorragia))\n",
    "        tensor_diagnostico_hemorragia_paciente = torch.Tensor(diagnostico_hemorragia_paciente).to(device)\n",
    "        \n",
    "        indices_imagenes_pacientes = np.arange(0,len(imagenes_paciente)-1,step=1)\n",
    "        indices_aleatorios_imagenes = np.random.choice(indices_imagenes_pacientes,len(indices_imagenes_pacientes),replace=False)\n",
    "        \n",
    "        for indice in indices_aleatorios_imagenes:\n",
    "            last_image =  int(indice  == indices_aleatorios_imagenes[-1])\n",
    "            \n",
    "            optimizer.zero_grad()\n",
    "            \n",
    "            imagen_paciente = imagenes_paciente[indice]\n",
    "            tensor_imagen_paciente =  torch.unsqueeze(\n",
    "                torch.unsqueeze( torch.Tensor(imagen_paciente),dim=0),dim=1).to(device)\n",
    "            \n",
    "            print(\"Alimentando paciente {} e imagen {} al modelo\".format(paciente,indice))\n",
    "            \n",
    "            diagnostico_hemorragia_aproximado = dnc_model(tensor_imagen_paciente)\n",
    "            \n",
    "            loss = criterion(diagnostico_hemorragia_aproximado,tensor_diagnostico_hemorragia_paciente,last_image)\n",
    "            loss.backward()\n",
    "            optimizer.step()\n",
    "            \n",
    "            if last_image:\n",
    "                print(loss.cpu().data,diagnostico_hemorragia_aproximado.cpu().data)"
   ]
  },
  {
   "cell_type": "code",
   "execution_count": 16,
   "metadata": {},
   "outputs": [
    {
     "name": "stdout",
     "output_type": "stream",
     "text": [
      "memory_matrix\n",
      "controller.conv1.weight\n",
      "controller.conv1.bias\n",
      "controller.fc1.weight\n",
      "controller.fc1.bias\n",
      "output_vector_linear.weight\n",
      "interface_vector_linear.weight\n",
      "read_vectors_to_output_linear.weight\n"
     ]
    }
   ],
   "source": [
    "#TODO: averiguar por que salen 6 tensores de parametros si solo se han declarado 3(al momento de correr lap rueba)\n",
    "train_parmams = list(dnc_model.named_parameters())\n",
    "\n",
    "for train_param in train_parmams:\n",
    "    print(train_param[0])"
   ]
  },
  {
   "cell_type": "code",
   "execution_count": 17,
   "metadata": {},
   "outputs": [
    {
     "data": {
      "text/plain": [
       "tensor([[-1.5175, -0.0704, -1.5948,  1.1654],\n",
       "        [-0.1286, -0.3672,  0.2419,  0.1757],\n",
       "        [ 0.4251, -0.3215, -1.5119,  0.3149],\n",
       "        [ 1.2161, -0.9231,  0.3399,  0.2479]], device='cuda:0')"
      ]
     },
     "execution_count": 17,
     "metadata": {},
     "output_type": "execute_result"
    }
   ],
   "source": [
    "dnc_model.memory_matrix.data\n"
   ]
  },
  {
   "cell_type": "code",
   "execution_count": null,
   "metadata": {},
   "outputs": [],
   "source": []
  }
 ],
 "metadata": {
  "kernelspec": {
   "display_name": "Python 3",
   "language": "python",
   "name": "python3"
  },
  "language_info": {
   "codemirror_mode": {
    "name": "ipython",
    "version": 3
   },
   "file_extension": ".py",
   "mimetype": "text/x-python",
   "name": "python",
   "nbconvert_exporter": "python",
   "pygments_lexer": "ipython3",
   "version": "3.6.6"
  }
 },
 "nbformat": 4,
 "nbformat_minor": 2
}
