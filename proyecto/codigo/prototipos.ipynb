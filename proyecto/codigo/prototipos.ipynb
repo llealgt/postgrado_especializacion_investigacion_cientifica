{
 "cells": [
  {
   "cell_type": "code",
   "execution_count": 1,
   "metadata": {},
   "outputs": [],
   "source": [
    "import numpy as np\n",
    "import matplotlib.pyplot as plt\n",
    "import matplotlib.image as mpimg\n",
    "import pandas as pd\n",
    "import torch as torch\n",
    "import os\n",
    "import torch.optim as optim\n",
    "import torch.nn.functional as F\n",
    "import torch.nn as nn"
   ]
  },
  {
   "cell_type": "code",
   "execution_count": 2,
   "metadata": {},
   "outputs": [],
   "source": [
    "DATA_DIRECTORY = \"../datos/\""
   ]
  },
  {
   "cell_type": "code",
   "execution_count": 3,
   "metadata": {},
   "outputs": [],
   "source": [
    "diagnosticos  = pd.read_excel(DATA_DIRECTORY+\"RESUMEN TAC CEREBRALES.xlsx\")"
   ]
  },
  {
   "cell_type": "code",
   "execution_count": 4,
   "metadata": {},
   "outputs": [],
   "source": [
    "# diccionario cuya llave es el id de paciente y el valor una lista \n",
    "# donde cada elemento de la lista es la matriz de una i\n",
    "diccionario_imagenes_pacientes = dict()\n",
    "\n",
    "for paciente in diagnosticos.paciente:\n",
    "    directorio_paciente = DATA_DIRECTORY+\"paciente_\"+str(paciente)\n",
    "    archivos_paciente = os.listdir(directorio_paciente)\n",
    "    \n",
    "    lista_imagenes_paciente = []\n",
    "    for archivo in archivos_paciente:\n",
    "        if archivo.endswith(\".jpg\"):\n",
    "            imagen = mpimg.imread(directorio_paciente+\"/\"+archivo)\n",
    "            lista_imagenes_paciente.append(imagen)\n",
    "            \n",
    "    diccionario_imagenes_pacientes[paciente] = lista_imagenes_paciente\n",
    "    "
   ]
  },
  {
   "cell_type": "markdown",
   "metadata": {},
   "source": [
    "## Modelos y arquitecturas\n",
    "### Arquitecturas experimental  DNC\n",
    "* Alimentamos al modelo imagen por imagen y se presenta un solo diagnostico por paciente\n",
    "* El controller de la DNC esta compuesto por una convnet"
   ]
  },
  {
   "cell_type": "code",
   "execution_count": 5,
   "metadata": {},
   "outputs": [],
   "source": [
    "CONTROLLER_OUTPUT_SIZE = 1024"
   ]
  },
  {
   "cell_type": "code",
   "execution_count": 6,
   "metadata": {},
   "outputs": [],
   "source": [
    "#TODO: cambiar valores quemados por valores parametrizados y calculos dependientes\n",
    "class ConvController(torch.nn.Module):\n",
    "    \n",
    "    def __init__(self):\n",
    "        super().__init__()\n",
    "        self.conv1 = torch.nn.Conv2d(1,4,kernel_size=3,stride=1)\n",
    "        self.fc1  =  torch.nn.Linear(262144,CONTROLLER_OUTPUT_SIZE)\n",
    "        \n",
    "    def forward(self,x):\n",
    "        h = self.conv1(x)\n",
    "        \n",
    "        #flatten\n",
    "        h =  x.view(-1,x.shape[1]*x.shape[2]*x.shape[3])\n",
    "        h =  self.fc1(h)\n",
    "        \n",
    "        return h #h_t in my txt"
   ]
  },
  {
   "cell_type": "code",
   "execution_count": 7,
   "metadata": {},
   "outputs": [],
   "source": [
    "#TODO: cambiar valores quemados por valores parametrizados y calculos dependientes\n",
    "#TODO: cordar por que en algun momento le puse bias = False a los pesos del vector de salida de la DNC\n",
    "class DNC(torch.nn.Module):\n",
    "    \n",
    "    def __init__(self,controller,memory_size = (10,10),read_heads = 1):\n",
    "        super().__init__()\n",
    "        self.controller = controller\n",
    "        self.N = memory_size[0] # number of memory locations\n",
    "        self.W = memory_size[1] # word size of the memory \n",
    "        self.R = read_heads # number of read heads\n",
    "        self.WS = 1 #not in the paper(they use 1), but used as a parametrizable number of write heads for further experiments\n",
    "        self.interface_vector_size = (self.W*self.R) + (self.W*self.WS) + (2*self.W) + (5*self.R) + 3\n",
    "        \n",
    "        # inicialization st to random just for testing, remember to put on zeros\n",
    "        self.memory_matrix = self.memory_matrix =  nn.Parameter(torch.randn(size=memory_size),requires_grad= False) \n",
    "        \n",
    "        #1024 es el tamaño del vector de salida del controlador, 1 es el tamaño de salida de la dnc\n",
    "        self.output_vector_linear = torch.nn.Linear(CONTROLLER_OUTPUT_SIZE,1,bias=False) #W_y \n",
    "        self.interface_vector_linear = torch.nn.Linear(CONTROLLER_OUTPUT_SIZE,self.interface_vector_size,bias=False) #W_ξ\n",
    "        self.read_vectors_to_output_linear = torch.nn.Linear(self.R*self.W,1,bias = False) #W_r in my txt\n",
    "        \n",
    "        self.read_keys = torch.Tensor(size=(self.R,self.W)).requires_grad_(False) # k_r in my txt\n",
    "        self.read_strenghts = torch.Tensor(size=(self.R,1)).requires_grad_(False) #β_r\n",
    "        \n",
    "        self.read_weighting = torch.Tensor(torch.zeros(size=(self.R,self.N))).requires_grad_(False) #r_w\n",
    "        \n",
    "        self.write_key = torch.Tensor(size=(1,self.W)).requires_grad_(False) # k_w in my txt\n",
    "        self.write_strenght = torch.Tensor(size=(1,1)).requires_grad_(False) # β_w\n",
    "        \n",
    "        self.write_weighting = torch.Tensor(torch.zeros(size=(1,self.N))).requires_grad_(False) # w_w\n",
    "        \n",
    "        self.usage_vector = torch.Tensor(torch.zeros(size=(1,self.N))).requires_grad_(False) #u_t\n",
    "        \n",
    "        self.memory_matrix_ones = torch.Tensor(torch.ones(size=memory_size)).requires_grad_(False) #E on paper\n",
    "        \n",
    "    def forward(self,x):\n",
    "        h_t = self.controller(x) #controller output called ht in the paper\n",
    "        \n",
    "        output_vector = self.output_vector_linear(h_t) # called Vt in the paper(υ=Wy[h1;...;hL]) v_o_t in my txt\n",
    "        interface_vector = self.interface_vector_linear(h_t).data #called ξt(ksi) in the paper ,ξ_t in my txt\n",
    "        \n",
    "        self.read_keys.data = interface_vector[0,0:self.R*self.W].view((self.R,self.W)) #k_r in my txt\n",
    "        \n",
    "        #clamp temporary added because the exp was returning inf  values\n",
    "        read_strenghts =  torch.clamp( interface_vector[0,self.R*self.W:self.R*self.W+self.R].view((self.R,1)),max=85)\n",
    "        self.read_strenghts.data = self.oneplus(read_strenghts) #β_r\n",
    "        \n",
    "        self.write_key.data = interface_vector[0,self.R*self.W+self.R:self.R*self.W+self.R+self.W].view((1,self.W)) # k_w\n",
    "        \n",
    "        write_strenght = torch.clamp(interface_vector[:,self.R*self.W+self.R+self.W:self.R*self.W+self.R+self.W + 1].view((1,1)),max=85)\n",
    "        self.write_strenght.data = self.oneplus(write_strenght) #β_w\n",
    "        \n",
    "        erase_vector = interface_vector[0,self.R*self.W+self.R+self.W + 1: self.R*self.W+self.R+self.W + 1 + self.W].view((1,self.W))\n",
    "        erase_vector = torch.sigmoid(erase_vector) #e_t\n",
    "        \n",
    "        write_vector = interface_vector[0,self.R*self.W+self.R+self.W + 1 + self.W:self.R*self.W+self.R+self.W + 1 + 2*self.W].view((1,self.W)) #v_t\n",
    "        \n",
    "        free_gates  =  interface_vector[0,self.R*self.W+self.R+self.W + 1 + 2*self.W:self.R*self.W+2*self.R+self.W + 1 + 2*self.W].view((self.R,1)) #f_t\n",
    "        free_gates =   torch.sigmoid(free_gates)\n",
    "        \n",
    "        # Escritura\n",
    "        # TODO: verificar y/o experimentar si el ordern es :primero escribir y luego leer de la memoria(asi parece en el pazper)\n",
    "        print(\"free gates\",free_gates,free_gates.size())\n",
    "        print(\"read wei\",self.read_weighting,self.read_weighting.size())\n",
    "        retention_vector = (1.0 - free_gates * self.read_weighting).prod(dim=0)\n",
    "        print(\"usage\",self.usage_vector)\n",
    "        print(\"write weit\",self.write_weighting)\n",
    "        print(\"retention\",retention_vector)\n",
    "        self.usage_vector.data = (self.usage_vector +self.write_weighting - (self.usage_vector *self.write_weighting))*retention_vector\n",
    "        \n",
    "        print(\"usage post\",self.usage_vector)\n",
    "        print(\"-------------------------------------------------\")\n",
    "        write_content_weighting = self.content_lookup(self.memory_matrix,self.write_key,self.write_strenght)\n",
    "\n",
    "        self.write_weighting.data = write_content_weighting #TODO: this should be a combination of temporal and dymamic allocaiton\n",
    "        \n",
    "        new_memory_matrix = self.memory_matrix*(self.memory_matrix_ones - torch.matmul(self.write_weighting.t(),erase_vector)) + torch.matmul(self.write_weighting.t(),write_vector)\n",
    "        \n",
    "        self.memory_matrix.data = new_memory_matrix\n",
    "        \n",
    "        # read by content weithing(attention by similarity)\n",
    "        read_content_weighting = self.content_lookup(self.memory_matrix,self.read_keys,self.read_strenghts)\n",
    "        \n",
    "        #read weithing is a combination of reading modes,TODO:add temporal attention not just by similarity\n",
    "        self.read_weighting.data = read_content_weighting\n",
    "        \n",
    "        read_vectors = torch.matmul(self.read_weighting,self.memory_matrix).view((1,self.R*self.W)) #r in my txt\n",
    "        read_heads_to_output = self.read_vectors_to_output_linear(read_vectors) #v_r_t in my t xt\n",
    "        \n",
    "        #TODO: experiment and decide if maintain sigmoid\n",
    "        y_t = torch.sigmoid(output_vector + read_heads_to_output)\n",
    "        return y_t\n",
    "    \n",
    "    def oneplus(self,x):\n",
    "        # apply oneplus operation to a tensor to constrain it's elements to [1,inf)\n",
    "        #TODO: check numerical statiliby as exp is returning inf for numbers like 710,emporary added clamp to 85\n",
    "        return torch.log(1+torch.exp(x)) + 1\n",
    "    \n",
    "    def content_lookup(self,matrix,keys,strengths):\n",
    "        # returns a probability distribution over the memory locations \n",
    "        # with higher probability to memory locations with bigger similarity to the keys\n",
    "        # bigger strenght make more aggresive distributions ,for example a distribution (0.2,0.3,0.5) with\n",
    "        # bigger strenght becomes (0.1,0.12,0.78)\n",
    "        # returns tensor of shape (read keys,memory size) = (R,N)\n",
    "        keys_norm =  torch.sqrt(torch.sum(keys**2,dim=1).unsqueeze(dim=1))\n",
    "        matrix_norm = torch.sqrt(torch.sum(matrix**2,dim=1))\n",
    "        norms_multiplication = keys_norm*matrix_norm\n",
    "        # calc cosine similarity between keys and memory locations(1e-6 is used avoiding div by 0)\n",
    "        divide_zero_prevent_factor = torch.zeros_like(norms_multiplication,requires_grad=False).add_(1e-6)\n",
    "        cosine_similarity = torch.matmul(keys,matrix.t())/(torch.max(norms_multiplication,divide_zero_prevent_factor))\n",
    "        \n",
    "        # do a \"strenght\" softmax to calculate the probability distribution\n",
    "        numerator = torch.exp(cosine_similarity*strengths)\n",
    "        denominator = numerator.sum(dim=1).unsqueeze(dim=1)\n",
    "\n",
    "        distribution = numerator/denominator\n",
    "        \n",
    "        return distribution"
   ]
  },
  {
   "cell_type": "code",
   "execution_count": 8,
   "metadata": {},
   "outputs": [
    {
     "data": {
      "text/plain": [
       "tensor([[8.2230e+36, 8.2230e+36, 8.2230e+36],\n",
       "        [8.2230e+36, 8.2230e+36, 8.2230e+36]])"
      ]
     },
     "execution_count": 8,
     "metadata": {},
     "output_type": "execute_result"
    }
   ],
   "source": [
    "torch.exp(torch.clamp(torch.Tensor(torch.full((2,3),1000)),max=85))"
   ]
  },
  {
   "cell_type": "code",
   "execution_count": 9,
   "metadata": {},
   "outputs": [
    {
     "data": {
      "text/plain": [
       "1.4035922178528375e+217"
      ]
     },
     "execution_count": 9,
     "metadata": {},
     "output_type": "execute_result"
    }
   ],
   "source": [
    "np.exp(500)"
   ]
  },
  {
   "cell_type": "markdown",
   "metadata": {},
   "source": [
    "## Experimentos\n",
    "* Experimentando con DNC alimentando una imagen a la vez en orden aleatorio con pacientes también en orden aleatorio"
   ]
  },
  {
   "cell_type": "code",
   "execution_count": 10,
   "metadata": {},
   "outputs": [],
   "source": [
    "device = torch.device(\"cuda:0\" if torch.cuda.is_available() else \"cpu\")"
   ]
  },
  {
   "cell_type": "code",
   "execution_count": 11,
   "metadata": {},
   "outputs": [],
   "source": [
    "EPOCHS = 1"
   ]
  },
  {
   "cell_type": "code",
   "execution_count": 12,
   "metadata": {},
   "outputs": [],
   "source": [
    "conv_controller = ConvController()\n",
    "dnc_model = DNC(controller=conv_controller,memory_size = (4,4),read_heads=2).to(device)"
   ]
  },
  {
   "cell_type": "code",
   "execution_count": 13,
   "metadata": {},
   "outputs": [],
   "source": [
    "def loss_function(y,y_hat,last_flag):\n",
    "    #print(y,y_hat,last_flag)\n",
    "    base_criterion = torch.nn.BCELoss()\n",
    "    return torch.full_like(y,last_flag) * base_criterion(y,y_hat)"
   ]
  },
  {
   "cell_type": "code",
   "execution_count": 14,
   "metadata": {},
   "outputs": [],
   "source": [
    "criterion = loss_function\n",
    "optimizer = optim.Adam(dnc_model.parameters(),lr=0.001)"
   ]
  },
  {
   "cell_type": "code",
   "execution_count": 15,
   "metadata": {},
   "outputs": [
    {
     "name": "stdout",
     "output_type": "stream",
     "text": [
      "Alimentando paciente 4 e imagen 10 al modelo (512, 512)\n",
      "free gates tensor([[1.0000e+00],\n",
      "        [3.6128e-17]]) torch.Size([2, 1])\n",
      "read wei tensor([[0., 0., 0., 0.],\n",
      "        [0., 0., 0., 0.]]) torch.Size([2, 4])\n",
      "usage tensor([[0., 0., 0., 0.]])\n",
      "write weit tensor([[0., 0., 0., 0.]])\n",
      "retention tensor([1., 1., 1., 1.])\n",
      "usage post tensor([[0., 0., 0., 0.]])\n",
      "-------------------------------------------------\n"
     ]
    },
    {
     "name": "stderr",
     "output_type": "stream",
     "text": [
      "/Users/llealhernandez/anaconda3/envs/pytorch/lib/python3.7/site-packages/torch/nn/modules/loss.py:512: UserWarning: Using a target size (torch.Size([])) that is different to the input size (torch.Size([1, 1])) is deprecated. Please ensure they have the same size.\n",
      "  return F.binary_cross_entropy(input, target, weight=self.weight, reduction=self.reduction)\n"
     ]
    },
    {
     "name": "stdout",
     "output_type": "stream",
     "text": [
      "Alimentando paciente 4 e imagen 6 al modelo (512, 512)\n",
      "free gates tensor([[0.0275],\n",
      "        [1.0000]]) torch.Size([2, 1])\n",
      "read wei tensor([[0.0083, 0.0131, 0.9682, 0.0103],\n",
      "        [0.2363, 0.2482, 0.2692, 0.2463]]) torch.Size([2, 4])\n",
      "usage tensor([[0., 0., 0., 0.]])\n",
      "write weit tensor([[0.1340, 0.3632, 0.1225, 0.3803]])\n",
      "retention tensor([0.7636, 0.7515, 0.7113, 0.7535])\n",
      "usage post tensor([[0.1023, 0.2730, 0.0871, 0.2865]])\n",
      "-------------------------------------------------\n",
      "Alimentando paciente 4 e imagen 12 al modelo (512, 512)\n",
      "free gates tensor([[2.2994e-08],\n",
      "        [8.3462e-04]]) torch.Size([2, 1])\n",
      "read wei tensor([[0.2337, 0.2418, 0.2828, 0.2417],\n",
      "        [0.4561, 0.1770, 0.2124, 0.1545]]) torch.Size([2, 4])\n",
      "usage tensor([[0.1023, 0.2730, 0.0871, 0.2865]])\n",
      "write weit tensor([[0.2399, 0.2656, 0.2308, 0.2638]])\n",
      "retention tensor([0.9996, 0.9999, 0.9998, 0.9999])\n",
      "usage post tensor([[0.3175, 0.4660, 0.2977, 0.4747]])\n",
      "-------------------------------------------------\n",
      "Alimentando paciente 4 e imagen 1 al modelo (512, 512)\n",
      "free gates tensor([[0.9607],\n",
      "        [1.0000]]) torch.Size([2, 1])\n",
      "read wei tensor([[0.2428, 0.2243, 0.3045, 0.2284],\n",
      "        [0.2741, 0.2325, 0.2665, 0.2269]]) torch.Size([2, 4])\n",
      "usage tensor([[0.3175, 0.4660, 0.2977, 0.4747]])\n",
      "write weit tensor([[0.2376, 0.2641, 0.2297, 0.2686]])\n",
      "retention tensor([0.5566, 0.6022, 0.5189, 0.6035])\n",
      "usage post tensor([[0.2670, 0.3655, 0.2382, 0.3716]])\n",
      "-------------------------------------------------\n",
      "Alimentando paciente 4 e imagen 5 al modelo (512, 512)\n",
      "free gates tensor([[0.0622],\n",
      "        [1.0000]]) torch.Size([2, 1])\n",
      "read wei tensor([[0.4420, 0.1286, 0.3368, 0.0926],\n",
      "        [0.2428, 0.2388, 0.2736, 0.2448]]) torch.Size([2, 4])\n",
      "usage tensor([[0.2670, 0.3655, 0.2382, 0.3716]])\n",
      "write weit tensor([[0.2328, 0.2689, 0.2294, 0.2689]])\n",
      "retention tensor([0.7364, 0.7551, 0.7111, 0.7509])\n",
      "usage post tensor([[0.3223, 0.4048, 0.2937, 0.4059]])\n",
      "-------------------------------------------------\n",
      "Alimentando paciente 4 e imagen 9 al modelo (512, 512)\n",
      "free gates tensor([[1.7493e-08],\n",
      "        [5.9432e-09]]) torch.Size([2, 1])\n",
      "read wei tensor([[0.2467, 0.2497, 0.2525, 0.2510],\n",
      "        [0.3000, 0.2732, 0.1588, 0.2681]]) torch.Size([2, 4])\n",
      "usage tensor([[0.3223, 0.4048, 0.2937, 0.4059]])\n",
      "write weit tensor([[0.2538, 0.2490, 0.2501, 0.2471]])\n",
      "retention tensor([1., 1., 1., 1.])\n",
      "usage post tensor([[0.4943, 0.5530, 0.4703, 0.5527]])\n",
      "-------------------------------------------------\n",
      "Alimentando paciente 4 e imagen 2 al modelo (512, 512)\n",
      "free gates tensor([[0.0115],\n",
      "        [1.0000]]) torch.Size([2, 1])\n",
      "read wei tensor([[0.2613, 0.0912, 0.5595, 0.0879],\n",
      "        [0.2545, 0.2468, 0.2529, 0.2458]]) torch.Size([2, 4])\n",
      "usage tensor([[0.4943, 0.5530, 0.4703, 0.5527]])\n",
      "write weit tensor([[0.2107, 0.2874, 0.2083, 0.2935]])\n",
      "retention tensor([0.7432, 0.7524, 0.7423, 0.7535])\n",
      "usage post tensor([[0.4466, 0.5128, 0.4310, 0.5153]])\n",
      "-------------------------------------------------\n",
      "Alimentando paciente 4 e imagen 0 al modelo (512, 512)\n",
      "free gates tensor([[6.8787e-05],\n",
      "        [1.0000e+00]]) torch.Size([2, 1])\n",
      "read wei tensor([[0.3067, 0.1838, 0.3334, 0.1761],\n",
      "        [0.2076, 0.2708, 0.2374, 0.2841]]) torch.Size([2, 4])\n",
      "usage tensor([[0.4466, 0.5128, 0.4310, 0.5153]])\n",
      "write weit tensor([[0.2517, 0.2491, 0.2508, 0.2484]])\n",
      "retention tensor([0.7923, 0.7292, 0.7626, 0.7159])\n",
      "usage post tensor([[0.4642, 0.4624, 0.4375, 0.4551]])\n",
      "-------------------------------------------------\n",
      "Alimentando paciente 4 e imagen 3 al modelo (512, 512)\n",
      "free gates tensor([[0.0997],\n",
      "        [1.0000]]) torch.Size([2, 1])\n",
      "read wei tensor([[0.2425, 0.2554, 0.2452, 0.2569],\n",
      "        [0.3396, 0.1838, 0.3057, 0.1709]]) torch.Size([2, 4])\n",
      "usage tensor([[0.4642, 0.4624, 0.4375, 0.4551]])\n",
      "write weit tensor([[0.2576, 0.2435, 0.2570, 0.2418]])\n",
      "retention tensor([0.6445, 0.7954, 0.6773, 0.8078])\n",
      "usage post tensor([[0.3881, 0.4719, 0.3943, 0.4741]])\n",
      "-------------------------------------------------\n",
      "Alimentando paciente 4 e imagen 13 al modelo (512, 512)\n",
      "free gates tensor([[0.6498],\n",
      "        [1.0000]]) torch.Size([2, 1])\n",
      "read wei tensor([[0.2442, 0.2543, 0.2464, 0.2552],\n",
      "        [0.2611, 0.2409, 0.2591, 0.2390]]) torch.Size([2, 4])\n",
      "usage tensor([[0.3881, 0.4719, 0.3943, 0.4741]])\n",
      "write weit tensor([[0.2545, 0.2469, 0.2531, 0.2456]])\n",
      "retention tensor([0.6217, 0.6337, 0.6223, 0.6348])\n",
      "usage post tensor([[0.3381, 0.3817, 0.3408, 0.3830]])\n",
      "-------------------------------------------------\n",
      "Alimentando paciente 4 e imagen 4 al modelo (512, 512)\n",
      "free gates tensor([[0.9732],\n",
      "        [1.0000]]) torch.Size([2, 1])\n",
      "read wei tensor([[0.2416, 0.2571, 0.2429, 0.2584],\n",
      "        [0.3029, 0.2045, 0.2941, 0.1985]]) torch.Size([2, 4])\n",
      "usage tensor([[0.3381, 0.3817, 0.3408, 0.3830]])\n",
      "write weit tensor([[0.2543, 0.2465, 0.2537, 0.2456]])\n",
      "retention tensor([0.5332, 0.5965, 0.5391, 0.5999])\n",
      "usage post tensor([[0.2700, 0.3186, 0.2738, 0.3207]])\n",
      "-------------------------------------------------\n",
      "Alimentando paciente 4 e imagen 7 al modelo (512, 512)\n",
      "free gates tensor([[2.1987e-05],\n",
      "        [1.0000e+00]]) torch.Size([2, 1])\n",
      "read wei tensor([[0.2435, 0.2557, 0.2440, 0.2567],\n",
      "        [0.3870, 0.1219, 0.3775, 0.1136]]) torch.Size([2, 4])\n",
      "usage tensor([[0.2700, 0.3186, 0.2738, 0.3207]])\n",
      "write weit tensor([[0.2485, 0.2517, 0.2482, 0.2516]])\n",
      "retention tensor([0.6130, 0.8781, 0.6225, 0.8864])\n",
      "usage post tensor([[0.2767, 0.4303, 0.2826, 0.4357]])\n",
      "-------------------------------------------------\n",
      "Alimentando paciente 4 e imagen 11 al modelo (512, 512)\n",
      "free gates tensor([[2.8500e-10],\n",
      "        [3.7295e-08]]) torch.Size([2, 1])\n",
      "read wei tensor([[0.2288, 0.2697, 0.2290, 0.2725],\n",
      "        [0.2624, 0.2380, 0.2628, 0.2368]]) torch.Size([2, 4])\n",
      "usage tensor([[0.2767, 0.4303, 0.2826, 0.4357]])\n",
      "write weit tensor([[0.2531, 0.2473, 0.2526, 0.2470]])\n",
      "retention tensor([1., 1., 1., 1.])\n",
      "usage post tensor([[0.4598, 0.5712, 0.4639, 0.5751]])\n",
      "-------------------------------------------------\n",
      "tensor([[27.6310]]) tensor([[1.]])\n"
     ]
    }
   ],
   "source": [
    "for epoch in range(EPOCHS):\n",
    "    # en cada epoch procesar los pacientes en orden aleatorio\n",
    "    pacientes = np.random.choice(np.array(diagnosticos.paciente),size= len(diagnosticos.paciente),replace=False)\n",
    "    \n",
    "    conteo_pacientes = 0\n",
    "    for paciente in pacientes:\n",
    "        #TODO: remover esta validacion, solo puesta para probar una unica iteracion en compu lenta\n",
    "        if conteo_pacientes >= 1:\n",
    "            break\n",
    "            \n",
    "        imagenes_paciente = diccionario_imagenes_pacientes.get(paciente)\n",
    "        diagnostico_hemorragia_paciente = np.array(float(diagnosticos[diagnosticos.paciente==paciente].hemorragia))\n",
    "        tensor_diagnostico_hemorragia_paciente = torch.Tensor(diagnostico_hemorragia_paciente).to(device)\n",
    "        \n",
    "        indices_imagenes_pacientes = np.arange(0,len(imagenes_paciente)-1,step=1)\n",
    "        indices_aleatorios_imagenes = np.random.choice(indices_imagenes_pacientes,len(indices_imagenes_pacientes),replace=False)\n",
    "        \n",
    "        for indice in indices_aleatorios_imagenes:\n",
    "            last_image =  int(indice  == indices_aleatorios_imagenes[-1])\n",
    "            \n",
    "            optimizer.zero_grad()\n",
    "            \n",
    "            imagen_paciente = imagenes_paciente[indice]\n",
    "            \n",
    "            if imagen_paciente.shape != (512,512):\n",
    "                #TODO: tread different image sizes with reshaping, resizing(or other ideas)\n",
    "                continue\n",
    "                \n",
    "            tensor_imagen_paciente =  torch.unsqueeze(\n",
    "                torch.unsqueeze( torch.Tensor(imagen_paciente),dim=0),dim=1).to(device)\n",
    "            \n",
    "            print(\"Alimentando paciente {} e imagen {} al modelo\".format(paciente,indice),imagen_paciente.shape)\n",
    "            \n",
    "            diagnostico_hemorragia_aproximado = dnc_model(tensor_imagen_paciente)\n",
    "            \n",
    "            loss = criterion(diagnostico_hemorragia_aproximado,tensor_diagnostico_hemorragia_paciente,last_image)\n",
    "            loss.backward()\n",
    "            optimizer.step()\n",
    "            \n",
    "            if last_image:\n",
    "                print(loss.cpu().data,diagnostico_hemorragia_aproximado.cpu().data)\n",
    "                \n",
    "            conteo_pacientes += 1"
   ]
  },
  {
   "cell_type": "code",
   "execution_count": 16,
   "metadata": {},
   "outputs": [
    {
     "name": "stdout",
     "output_type": "stream",
     "text": [
      "torch.Size([2, 4])\n"
     ]
    },
    {
     "data": {
      "text/plain": [
       "tensor([24., 42., 64., 90.])"
      ]
     },
     "execution_count": 16,
     "metadata": {},
     "output_type": "execute_result"
    }
   ],
   "source": [
    "a = torch.Tensor([[1],\n",
    "        [2]]) \n",
    "b = torch.Tensor([[6,7,8,9],\n",
    "        [2,3,4,5]]) \n",
    "\n",
    "print(b.size())\n",
    "\n",
    "(a*b).prod(dim=0)"
   ]
  },
  {
   "cell_type": "code",
   "execution_count": 17,
   "metadata": {},
   "outputs": [
    {
     "name": "stdout",
     "output_type": "stream",
     "text": [
      "memory_matrix\n",
      "controller.conv1.weight\n",
      "controller.conv1.bias\n",
      "controller.fc1.weight\n",
      "controller.fc1.bias\n",
      "output_vector_linear.weight\n",
      "interface_vector_linear.weight\n",
      "read_vectors_to_output_linear.weight\n"
     ]
    }
   ],
   "source": [
    "#TODO: averiguar por que salen 6 tensores de parametros si solo se han declarado 3(al momento de correr lap rueba)\n",
    "train_parmams = list(dnc_model.named_parameters())\n",
    "\n",
    "for train_param in train_parmams:\n",
    "    print(train_param[0])"
   ]
  },
  {
   "cell_type": "code",
   "execution_count": 18,
   "metadata": {},
   "outputs": [
    {
     "data": {
      "text/plain": [
       "tensor([[1.0000]])"
      ]
     },
     "execution_count": 18,
     "metadata": {},
     "output_type": "execute_result"
    }
   ],
   "source": [
    "dnc_model.write_strenght.data\n"
   ]
  },
  {
   "cell_type": "markdown",
   "metadata": {},
   "source": [
    "Meta (por detallar)\n",
    "* Calcular memory retention vector(con los free gates)\n",
    "* L temporal link matrix\n",
    "* u_t usage vector"
   ]
  },
  {
   "cell_type": "code",
   "execution_count": null,
   "metadata": {},
   "outputs": [],
   "source": []
  }
 ],
 "metadata": {
  "kernelspec": {
   "display_name": "Python 3",
   "language": "python",
   "name": "python3"
  },
  "language_info": {
   "codemirror_mode": {
    "name": "ipython",
    "version": 3
   },
   "file_extension": ".py",
   "mimetype": "text/x-python",
   "name": "python",
   "nbconvert_exporter": "python",
   "pygments_lexer": "ipython3",
   "version": "3.7.3"
  }
 },
 "nbformat": 4,
 "nbformat_minor": 2
}
