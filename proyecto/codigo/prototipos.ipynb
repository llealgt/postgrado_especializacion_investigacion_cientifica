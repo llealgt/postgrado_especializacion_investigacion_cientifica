{
 "cells": [
  {
   "cell_type": "code",
   "execution_count": 1,
   "metadata": {},
   "outputs": [],
   "source": [
    "import numpy as np\n",
    "import matplotlib.pyplot as plt\n",
    "import matplotlib.image as mpimg\n",
    "import pandas as pd\n",
    "import torch as torch\n",
    "import os\n",
    "import torch.optim as optim\n",
    "import torch.nn.functional as F\n",
    "import torch.nn as nn"
   ]
  },
  {
   "cell_type": "code",
   "execution_count": 2,
   "metadata": {},
   "outputs": [],
   "source": [
    "DATA_DIRECTORY = \"../datos/\""
   ]
  },
  {
   "cell_type": "code",
   "execution_count": 3,
   "metadata": {},
   "outputs": [],
   "source": [
    "diagnosticos  = pd.read_excel(DATA_DIRECTORY+\"RESUMEN TAC CEREBRALES.xlsx\")"
   ]
  },
  {
   "cell_type": "code",
   "execution_count": 4,
   "metadata": {},
   "outputs": [],
   "source": [
    "# diccionario cuya llave es el id de paciente y el valor una lista \n",
    "# donde cada elemento de la lista es la matriz de una i\n",
    "diccionario_imagenes_pacientes = dict()\n",
    "\n",
    "for paciente in diagnosticos.paciente:\n",
    "    directorio_paciente = DATA_DIRECTORY+\"paciente_\"+str(paciente)\n",
    "    archivos_paciente = os.listdir(directorio_paciente)\n",
    "    \n",
    "    lista_imagenes_paciente = []\n",
    "    for archivo in archivos_paciente:\n",
    "        if archivo.endswith(\".jpg\"):\n",
    "            imagen = mpimg.imread(directorio_paciente+\"/\"+archivo)\n",
    "            lista_imagenes_paciente.append(imagen)\n",
    "            \n",
    "    diccionario_imagenes_pacientes[paciente] = lista_imagenes_paciente\n",
    "    "
   ]
  },
  {
   "cell_type": "markdown",
   "metadata": {},
   "source": [
    "## Modelos y arquitecturas\n",
    "### Arquitecturas experimental  DNC\n",
    "* Alimentamos al modelo imagen por imagen y se presenta un solo diagnostico por paciente\n",
    "* El controller de la DNC esta compuesto por una convnet"
   ]
  },
  {
   "cell_type": "code",
   "execution_count": 5,
   "metadata": {},
   "outputs": [],
   "source": [
    "CONTROLLER_OUTPUT_SIZE = 1024"
   ]
  },
  {
   "cell_type": "code",
   "execution_count": 6,
   "metadata": {},
   "outputs": [],
   "source": [
    "#TODO: cambiar valores quemados por valores parametrizados y calculos dependientes\n",
    "class ConvController(torch.nn.Module):\n",
    "    \n",
    "    def __init__(self):\n",
    "        super().__init__()\n",
    "        self.conv1 = torch.nn.Conv2d(1,4,kernel_size=3,stride=1)\n",
    "        self.fc1  =  torch.nn.Linear(262144,CONTROLLER_OUTPUT_SIZE)\n",
    "        \n",
    "    def forward(self,x):\n",
    "        h = self.conv1(x)\n",
    "        \n",
    "        #flatten\n",
    "        h =  x.view(-1,x.shape[1]*x.shape[2]*x.shape[3])\n",
    "        h =  self.fc1(h)\n",
    "        \n",
    "        return h #h_t in my txt"
   ]
  },
  {
   "cell_type": "code",
   "execution_count": 7,
   "metadata": {},
   "outputs": [],
   "source": [
    "#TODO: cambiar valores quemados por valores parametrizados y calculos dependientes\n",
    "#TODO: cordar por que en algun momento le puse bias = False a los pesos del vector de salida de la DNC\n",
    "class DNC(torch.nn.Module):\n",
    "    \n",
    "    def __init__(self,controller,memory_size = (10,10),read_heads = 1):\n",
    "        super().__init__()\n",
    "        self.controller = controller\n",
    "        self.N = memory_size[0] # number of memory locations\n",
    "        self.W = memory_size[1] # word size of the memory \n",
    "        self.R = read_heads # number of read heads\n",
    "        self.WS = 1 #not in the paper(they use 1), but used as a parametrizable number of write heads for further experiments\n",
    "        self.interface_vector_size = (self.W*self.R) + (self.W*self.WS) + (2*self.W) + (5*self.R) + 3\n",
    "        \n",
    "        # inicialization st to random just for testing, remember to put on zeros\n",
    "        self.memory_matrix = self.memory_matrix =  nn.Parameter(torch.randn(size=memory_size),requires_grad= False) \n",
    "        \n",
    "        #1024 es el tamaño del vector de salida del controlador, 1 es el tamaño de salida de la dnc\n",
    "        self.output_vector_linear = torch.nn.Linear(CONTROLLER_OUTPUT_SIZE,1,bias=False) #W_y \n",
    "        self.interface_vector_linear = torch.nn.Linear(CONTROLLER_OUTPUT_SIZE,self.interface_vector_size,bias=False) #W_ξ\n",
    "        self.read_vectors_to_output_linear = torch.nn.Linear(self.R*self.W,1,bias = False) #W_r in my txt\n",
    "        \n",
    "        self.read_keys = torch.Tensor(size=(self.R,self.W)).requires_grad_(False) # k_r in my txt\n",
    "        self.read_strenghts = torch.Tensor(size=(self.R,1)).requires_grad_(False) #β_r\n",
    "        \n",
    "        self.write_key = torch.Tensor(size=(1,self.W)).requires_grad_(False) # k_w in my txt\n",
    "        self.write_strenght = torch.Tensor(size=(1,1)).requires_grad_(False) # β_w\n",
    "        \n",
    "        self.memory_matrix_ones = torch.Tensor(torch.ones(size=memory_size)).requires_grad_(False) #E on paper\n",
    "        \n",
    "    def forward(self,x):\n",
    "        h_t = self.controller(x) #controller output called ht in the paper\n",
    "        \n",
    "        output_vector = self.output_vector_linear(h_t) # called Vt in the paper(υ=Wy[h1;...;hL]) v_o_t in my txt\n",
    "        interface_vector = self.interface_vector_linear(h_t).data #called ξt(ksi) in the paper ,ξ_t in my txt\n",
    "        \n",
    "        self.read_keys.data = interface_vector[0,0:self.R*self.W].view((self.R,self.W)) #k_r in my txt\n",
    "        \n",
    "        #clamp temporary added because the exp was returning inf  values\n",
    "        read_strenghts =  torch.clamp( interface_vector[0,self.R*self.W:self.R*self.W+self.R].view((self.R,1)),max=85)\n",
    "        self.read_strenghts.data = self.oneplus(read_strenghts) #β_r\n",
    "        \n",
    "        self.write_key.data = interface_vector[0,self.R*self.W+self.R:self.R*self.W+self.R+self.W].view((1,self.W)) # k_w\n",
    "        \n",
    "        write_strenght = torch.clamp(interface_vector[:,self.R*self.W+self.R+self.W:self.R*self.W+self.R+self.W + 1].view((1,1)),max=85)\n",
    "        self.write_strenght.data = self.oneplus(write_strenght) #β_w\n",
    "        \n",
    "        erase_vector = interface_vector[0,self.R*self.W+self.R+self.W + 1: self.R*self.W+self.R+self.W + 1 + self.W].view((1,self.W))\n",
    "        erase_vector = torch.sigmoid(erase_vector) #e_t\n",
    "        \n",
    "        write_vector = interface_vector[0,self.R*self.W+self.R+self.W + 1 + self.W:self.R*self.W+self.R+self.W + 1 + 2*self.W].view((1,self.W)) #v_t\n",
    "        \n",
    "        \n",
    "        # TODO: verificar y/o experimentar si el ordern es :primero escribir y luego leer de la memoria(asi parece en el pazper)\n",
    "        write_content_weighting = self.content_lookup(self.memory_matrix,self.write_key,self.write_strenght)\n",
    "\n",
    "        \n",
    "        write_weighting = write_content_weighting #TODO: this should be a combination of temporal and dymamic allocaiton\n",
    "        \n",
    "        new_memory_matrix = self.memory_matrix*(self.memory_matrix_ones - torch.matmul(write_weighting.t(),erase_vector)) + torch.matmul(write_weighting.t(),write_vector)\n",
    "        print(self.memory_matrix)\n",
    "        print(new_memory_matrix)\n",
    "        \n",
    "        self.memory_matrix.data = new_memory_matrix\n",
    "        \n",
    "        # read by content weithing(attention by similarity)\n",
    "        read_content_weighting = self.content_lookup(self.memory_matrix,self.read_keys,self.read_strenghts)\n",
    "        \n",
    "        #read weithing is a combination of reading modes,TODO:add temporal attention not just by similarity\n",
    "        read_weighting = read_content_weighting\n",
    "        \n",
    "        read_vectors = torch.matmul(read_weighting,self.memory_matrix).view((1,self.R*self.W)) #r in my txt\n",
    "        read_heads_to_output = self.read_vectors_to_output_linear(read_vectors) #v_r_t in my t xt\n",
    "        \n",
    "        #TODO: experiment and decide if maintain sigmoid\n",
    "        y_t = torch.sigmoid(output_vector + read_heads_to_output)\n",
    "        return y_t\n",
    "    \n",
    "    def oneplus(self,x):\n",
    "        # apply oneplus operation to a tensor to constrain it's elements to [1,inf)\n",
    "        #TODO: check numerical statiliby as exp is returning inf for numbers like 710,emporary added clamp to 85\n",
    "        return torch.log(1+torch.exp(x)) + 1\n",
    "    \n",
    "    def content_lookup(self,matrix,keys,strengths):\n",
    "        # returns a probability distribution over the memory locations \n",
    "        # with higher probability to memory locations with bigger similarity to the keys\n",
    "        # bigger strenght make more aggresive distributions ,for example a distribution (0.2,0.3,0.5) with\n",
    "        # bigger strenght becomes (0.1,0.12,0.78)\n",
    "        # returns tensor of shape (read keys,memory size) = (R,N)\n",
    "        keys_norm =  torch.sqrt(torch.sum(keys**2,dim=1).unsqueeze(dim=1))\n",
    "        matrix_norm = torch.sqrt(torch.sum(matrix**2,dim=1))\n",
    "        norms_multiplication = keys_norm*matrix_norm\n",
    "        # calc cosine similarity between keys and memory locations(1e-6 is used avoiding div by 0)\n",
    "        divide_zero_prevent_factor = torch.zeros_like(norms_multiplication,requires_grad=False).add_(1e-6)\n",
    "        cosine_similarity = torch.matmul(keys,matrix.t())/(torch.max(norms_multiplication,divide_zero_prevent_factor))\n",
    "        \n",
    "        # do a \"strenght\" softmax to calculate the probability distribution\n",
    "        numerator = torch.exp(cosine_similarity*strengths)\n",
    "        denominator = numerator.sum(dim=1).unsqueeze(dim=1)\n",
    "\n",
    "        distribution = numerator/denominator\n",
    "        \n",
    "        return distribution"
   ]
  },
  {
   "cell_type": "code",
   "execution_count": 8,
   "metadata": {},
   "outputs": [
    {
     "data": {
      "text/plain": [
       "tensor([[8.2230e+36, 8.2230e+36, 8.2230e+36],\n",
       "        [8.2230e+36, 8.2230e+36, 8.2230e+36]])"
      ]
     },
     "execution_count": 8,
     "metadata": {},
     "output_type": "execute_result"
    }
   ],
   "source": [
    "torch.exp(torch.clamp(torch.Tensor(torch.full((2,3),1000)),max=85))"
   ]
  },
  {
   "cell_type": "code",
   "execution_count": 9,
   "metadata": {},
   "outputs": [
    {
     "data": {
      "text/plain": [
       "1.4035922178528375e+217"
      ]
     },
     "execution_count": 9,
     "metadata": {},
     "output_type": "execute_result"
    }
   ],
   "source": [
    "np.exp(500)"
   ]
  },
  {
   "cell_type": "markdown",
   "metadata": {},
   "source": [
    "## Experimentos\n",
    "* Experimentando con DNC alimentando una imagen a la vez en orden aleatorio con pacientes también en orden aleatorio"
   ]
  },
  {
   "cell_type": "code",
   "execution_count": 10,
   "metadata": {},
   "outputs": [],
   "source": [
    "device = torch.device(\"cuda:0\" if torch.cuda.is_available() else \"cpu\")"
   ]
  },
  {
   "cell_type": "code",
   "execution_count": 11,
   "metadata": {},
   "outputs": [],
   "source": [
    "EPOCHS = 1"
   ]
  },
  {
   "cell_type": "code",
   "execution_count": 12,
   "metadata": {},
   "outputs": [],
   "source": [
    "conv_controller = ConvController()\n",
    "dnc_model = DNC(controller=conv_controller,memory_size = (4,4),read_heads=2).to(device)"
   ]
  },
  {
   "cell_type": "code",
   "execution_count": 13,
   "metadata": {},
   "outputs": [],
   "source": [
    "def loss_function(y,y_hat,last_flag):\n",
    "    #print(y,y_hat,last_flag)\n",
    "    base_criterion = torch.nn.BCELoss()\n",
    "    return torch.full_like(y,last_flag) * base_criterion(y,y_hat)"
   ]
  },
  {
   "cell_type": "code",
   "execution_count": 14,
   "metadata": {},
   "outputs": [],
   "source": [
    "criterion = loss_function\n",
    "optimizer = optim.Adam(dnc_model.parameters(),lr=0.001)"
   ]
  },
  {
   "cell_type": "code",
   "execution_count": 15,
   "metadata": {},
   "outputs": [
    {
     "name": "stdout",
     "output_type": "stream",
     "text": [
      "Alimentando paciente 4 e imagen 9 al modelo (512, 512)\n",
      "Parameter containing:\n",
      "tensor([[-0.2373, -0.2473, -1.3353, -0.6883],\n",
      "        [ 0.6870,  0.5947, -1.3316,  0.4734],\n",
      "        [ 0.4928,  1.2517,  3.2610, -0.4484],\n",
      "        [-0.7731,  1.0517, -0.7018,  0.7446]])\n",
      "tensor([[  5.1026,   0.7774,  -0.4679,  -2.7159],\n",
      "        [  7.4103,   1.8848,  -0.2398,  -2.0826],\n",
      "        [ 33.5832,   7.6012,   5.8599, -13.0160],\n",
      "        [  8.8488,   2.8980,   0.7500,  -2.9144]])\n",
      "tensor([[1.7562]], grad_fn=<MmBackward>)\n"
     ]
    },
    {
     "name": "stderr",
     "output_type": "stream",
     "text": [
      "/Users/llealhernandez/anaconda3/envs/pytorch/lib/python3.7/site-packages/torch/nn/modules/loss.py:512: UserWarning: Using a target size (torch.Size([])) that is different to the input size (torch.Size([1, 1])) is deprecated. Please ensure they have the same size.\n",
      "  return F.binary_cross_entropy(input, target, weight=self.weight, reduction=self.reduction)\n"
     ]
    },
    {
     "name": "stdout",
     "output_type": "stream",
     "text": [
      "Alimentando paciente 4 e imagen 10 al modelo (512, 512)\n",
      "Parameter containing:\n",
      "tensor([[  5.1026,   0.7774,  -0.4679,  -2.7159],\n",
      "        [  7.4103,   1.8848,  -0.2398,  -2.0826],\n",
      "        [ 33.5832,   7.6012,   5.8599, -13.0160],\n",
      "        [  8.8488,   2.8980,   0.7500,  -2.9144]])\n",
      "tensor([[ 4.4311, 11.0166,  5.1186, -0.2804],\n",
      "        [ 6.7290, 12.2736,  5.3726,  0.2338],\n",
      "        [32.8637, 18.5724, 10.2138, -7.7503],\n",
      "        [ 8.1313, 13.8400,  6.4066, -0.2608]])\n",
      "tensor([[3.2465]], grad_fn=<MmBackward>)\n",
      "Alimentando paciente 4 e imagen 0 al modelo (512, 512)\n",
      "Parameter containing:\n",
      "tensor([[ 4.4311, 11.0166,  5.1186, -0.2804],\n",
      "        [ 6.7290, 12.2736,  5.3726,  0.2338],\n",
      "        [32.8637, 18.5724, 10.2138, -7.7503],\n",
      "        [ 8.1313, 13.8400,  6.4066, -0.2608]])\n",
      "tensor([[18.5037,  6.3312,  1.8050,  0.6073],\n",
      "        [20.1406,  7.8082,  2.1553,  0.9598],\n",
      "        [48.9532, 13.2154,  4.9984, -4.6437],\n",
      "        [22.0107,  9.2188,  2.8273,  0.6100]])\n",
      "tensor([[3.1622]], grad_fn=<MmBackward>)\n",
      "Alimentando paciente 4 e imagen 11 al modelo (512, 512)\n",
      "Parameter containing:\n",
      "tensor([[18.5037,  6.3312,  1.8050,  0.6073],\n",
      "        [20.1406,  7.8082,  2.1553,  0.9598],\n",
      "        [48.9532, 13.2154,  4.9984, -4.6437],\n",
      "        [22.0107,  9.2188,  2.8273,  0.6100]])\n",
      "tensor([[26.9247, 10.2509,  0.7815, -3.7484],\n",
      "        [28.4547, 11.6782,  1.0585, -3.4275],\n",
      "        [57.6480, 17.2626,  3.1187, -7.7878],\n",
      "        [30.3192, 13.0861,  1.5658, -3.6881]])\n",
      "tensor([[4.0678]], grad_fn=<MmBackward>)\n",
      "Alimentando paciente 4 e imagen 3 al modelo (512, 512)\n",
      "Parameter containing:\n",
      "tensor([[26.9247, 10.2509,  0.7815, -3.7484],\n",
      "        [28.4547, 11.6782,  1.0585, -3.4275],\n",
      "        [57.6480, 17.2626,  3.1187, -7.7878],\n",
      "        [30.3192, 13.0861,  1.5658, -3.6881]])\n",
      "tensor([[30.2169,  3.5466, -7.9935, -1.9377],\n",
      "        [31.7593,  4.9486, -7.8187, -1.6902],\n",
      "        [60.9141, 10.6116, -6.1640, -4.9936],\n",
      "        [33.6770,  6.2481, -7.5834, -1.8567]])\n",
      "tensor([[2.5632]], grad_fn=<MmBackward>)\n",
      "Alimentando paciente 4 e imagen 5 al modelo (512, 512)\n",
      "Parameter containing:\n",
      "tensor([[30.2169,  3.5466, -7.9935, -1.9377],\n",
      "        [31.7593,  4.9486, -7.8187, -1.6902],\n",
      "        [60.9141, 10.6116, -6.1640, -4.9936],\n",
      "        [33.6770,  6.2481, -7.5834, -1.8567]])\n",
      "tensor([[ 28.4999,  -6.0788, -17.5824,  -1.3813],\n",
      "        [ 30.0032,  -4.8961, -17.6687,  -1.1813],\n",
      "        [ 58.9661,  -0.3089, -17.5364,  -3.5385],\n",
      "        [ 31.8722,  -3.8697, -17.7653,  -1.2920]])\n",
      "tensor([[-0.1226]], grad_fn=<MmBackward>)\n",
      "Alimentando paciente 4 e imagen 4 al modelo (512, 512)\n",
      "Parameter containing:\n",
      "tensor([[ 28.4999,  -6.0788, -17.5824,  -1.3813],\n",
      "        [ 30.0032,  -4.8961, -17.6687,  -1.1813],\n",
      "        [ 58.9661,  -0.3089, -17.5364,  -3.5385],\n",
      "        [ 31.8722,  -3.8697, -17.7653,  -1.2920]])\n",
      "tensor([[ 35.4004, -17.4145,  -7.7248,  -2.8003],\n",
      "        [ 36.7875, -16.0411,  -7.9555,  -2.6212],\n",
      "        [ 65.7137, -11.3936,  -7.9085,  -4.4446],\n",
      "        [ 38.6081, -14.9350,  -8.0976,  -2.6970]])\n",
      "tensor([[-2.2486]], grad_fn=<MmBackward>)\n",
      "Alimentando paciente 4 e imagen 1 al modelo (512, 512)\n",
      "Parameter containing:\n",
      "tensor([[ 35.4004, -17.4145,  -7.7248,  -2.8003],\n",
      "        [ 36.7875, -16.0411,  -7.9555,  -2.6212],\n",
      "        [ 65.7137, -11.3936,  -7.9085,  -4.4446],\n",
      "        [ 38.6081, -14.9350,  -8.0976,  -2.6970]])\n",
      "tensor([[ 34.9368, -19.5944,  -0.4988, -12.6247],\n",
      "        [ 36.3112, -18.2807,  -0.4765, -12.7576],\n",
      "        [ 65.1337, -14.1211,   1.1859, -16.2628],\n",
      "        [ 38.1175, -17.2415,  -0.3608, -13.1173]])\n",
      "tensor([[-2.9154]], grad_fn=<MmBackward>)\n",
      "Alimentando paciente 4 e imagen 6 al modelo (512, 512)\n",
      "Parameter containing:\n",
      "tensor([[ 34.9368, -19.5944,  -0.4988, -12.6247],\n",
      "        [ 36.3112, -18.2807,  -0.4765, -12.7576],\n",
      "        [ 65.1337, -14.1211,   1.1859, -16.2628],\n",
      "        [ 38.1175, -17.2415,  -0.3608, -13.1173]])\n",
      "tensor([[ 36.4060, -25.3232,  -5.5109,  -5.4783],\n",
      "        [ 37.7925, -24.0568,  -5.5355,  -5.5194],\n",
      "        [ 66.6545, -20.0515,  -4.4319,  -7.9378],\n",
      "        [ 39.6140, -23.0768,  -5.5007,  -5.7146]])\n",
      "tensor([[-4.3623]], grad_fn=<MmBackward>)\n",
      "Alimentando paciente 4 e imagen 7 al modelo (512, 512)\n",
      "Parameter containing:\n",
      "tensor([[ 36.4060, -25.3232,  -5.5109,  -5.4783],\n",
      "        [ 37.7925, -24.0568,  -5.5355,  -5.5194],\n",
      "        [ 66.6545, -20.0515,  -4.4319,  -7.9378],\n",
      "        [ 39.6140, -23.0768,  -5.5007,  -5.7146]])\n",
      "tensor([[ 46.2100, -31.5306,  -4.3893, -11.4315],\n",
      "        [ 47.6053, -30.2696,  -4.4068, -11.4677],\n",
      "        [ 76.5848, -26.3387,  -3.5679, -13.3478],\n",
      "        [ 49.4583, -29.3096,  -4.3771, -11.6332]])\n",
      "tensor([[-6.0287]], grad_fn=<MmBackward>)\n",
      "Alimentando paciente 4 e imagen 2 al modelo (512, 512)\n",
      "Parameter containing:\n",
      "tensor([[ 46.2100, -31.5306,  -4.3893, -11.4315],\n",
      "        [ 47.6053, -30.2696,  -4.4068, -11.4677],\n",
      "        [ 76.5848, -26.3387,  -3.5679, -13.3478],\n",
      "        [ 49.4583, -29.3096,  -4.3771, -11.6332]])\n",
      "tensor([[ 49.6712, -36.7034,  -5.4729, -15.8946],\n",
      "        [ 51.1311, -35.5392,  -5.5064, -16.0054],\n",
      "        [ 80.5223, -32.2235,  -5.0235, -17.9052],\n",
      "        [ 53.0474, -34.6737,  -5.5038, -16.2114]])\n",
      "tensor([[-6.1070]], grad_fn=<MmBackward>)\n",
      "Alimentando paciente 4 e imagen 12 al modelo (512, 512)\n",
      "Parameter containing:\n",
      "tensor([[ 49.6712, -36.7034,  -5.4729, -15.8946],\n",
      "        [ 51.1311, -35.5392,  -5.5064, -16.0054],\n",
      "        [ 80.5223, -32.2235,  -5.0235, -17.9052],\n",
      "        [ 53.0474, -34.6737,  -5.5038, -16.2114]])\n",
      "tensor([[ 52.7250, -43.2515,  -5.4560, -12.2879],\n",
      "        [ 54.1584, -42.0304,  -5.4810, -12.4016],\n",
      "        [ 83.2650, -38.1046,  -5.1125, -14.1995],\n",
      "        [ 56.0480, -41.1076,  -5.4793, -12.5872]])\n",
      "tensor([[-6.9387]], grad_fn=<MmBackward>)\n",
      "Alimentando paciente 4 e imagen 13 al modelo (512, 512)\n",
      "Parameter containing:\n",
      "tensor([[ 52.7250, -43.2515,  -5.4560, -12.2879],\n",
      "        [ 54.1584, -42.0304,  -5.4810, -12.4016],\n",
      "        [ 83.2650, -38.1046,  -5.1125, -14.1995],\n",
      "        [ 56.0480, -41.1076,  -5.4793, -12.5872]])\n",
      "tensor([[ 67.8501, -53.0929,  -4.9694,  -6.8867],\n",
      "        [ 69.2021, -51.8189,  -4.9907,  -7.0006],\n",
      "        [ 97.3703, -47.2825,  -4.7405,  -8.7073],\n",
      "        [ 71.0087, -50.8421,  -4.9921,  -7.1692]])\n",
      "tensor([[-8.8497]], grad_fn=<MmBackward>)\n",
      "tensor([[0.0002]]) tensor([[0.0002]])\n"
     ]
    }
   ],
   "source": [
    "for epoch in range(EPOCHS):\n",
    "    # en cada epoch procesar los pacientes en orden aleatorio\n",
    "    pacientes = np.random.choice(np.array(diagnosticos.paciente),size= len(diagnosticos.paciente),replace=False)\n",
    "    \n",
    "    conteo_pacientes = 0\n",
    "    for paciente in pacientes:\n",
    "        #TODO: remover esta validacion, solo puesta para probar una unica iteracion en compu lenta\n",
    "        if conteo_pacientes >= 1:\n",
    "            break\n",
    "            \n",
    "        imagenes_paciente = diccionario_imagenes_pacientes.get(paciente)\n",
    "        diagnostico_hemorragia_paciente = np.array(float(diagnosticos[diagnosticos.paciente==paciente].hemorragia))\n",
    "        tensor_diagnostico_hemorragia_paciente = torch.Tensor(diagnostico_hemorragia_paciente).to(device)\n",
    "        \n",
    "        indices_imagenes_pacientes = np.arange(0,len(imagenes_paciente)-1,step=1)\n",
    "        indices_aleatorios_imagenes = np.random.choice(indices_imagenes_pacientes,len(indices_imagenes_pacientes),replace=False)\n",
    "        \n",
    "        for indice in indices_aleatorios_imagenes:\n",
    "            last_image =  int(indice  == indices_aleatorios_imagenes[-1])\n",
    "            \n",
    "            optimizer.zero_grad()\n",
    "            \n",
    "            imagen_paciente = imagenes_paciente[indice]\n",
    "            \n",
    "            if imagen_paciente.shape != (512,512):\n",
    "                #TODO: tread different image sizes with reshaping, resizing(or other ideas)\n",
    "                continue\n",
    "                \n",
    "            tensor_imagen_paciente =  torch.unsqueeze(\n",
    "                torch.unsqueeze( torch.Tensor(imagen_paciente),dim=0),dim=1).to(device)\n",
    "            \n",
    "            print(\"Alimentando paciente {} e imagen {} al modelo\".format(paciente,indice),imagen_paciente.shape)\n",
    "            \n",
    "            diagnostico_hemorragia_aproximado = dnc_model(tensor_imagen_paciente)\n",
    "            \n",
    "            loss = criterion(diagnostico_hemorragia_aproximado,tensor_diagnostico_hemorragia_paciente,last_image)\n",
    "            loss.backward()\n",
    "            optimizer.step()\n",
    "            \n",
    "            if last_image:\n",
    "                print(loss.cpu().data,diagnostico_hemorragia_aproximado.cpu().data)\n",
    "                \n",
    "            conteo_pacientes += 1"
   ]
  },
  {
   "cell_type": "code",
   "execution_count": 16,
   "metadata": {},
   "outputs": [
    {
     "name": "stdout",
     "output_type": "stream",
     "text": [
      "memory_matrix\n",
      "controller.conv1.weight\n",
      "controller.conv1.bias\n",
      "controller.fc1.weight\n",
      "controller.fc1.bias\n",
      "output_vector_linear.weight\n",
      "interface_vector_linear.weight\n",
      "read_vectors_to_output_linear.weight\n"
     ]
    }
   ],
   "source": [
    "#TODO: averiguar por que salen 6 tensores de parametros si solo se han declarado 3(al momento de correr lap rueba)\n",
    "train_parmams = list(dnc_model.named_parameters())\n",
    "\n",
    "for train_param in train_parmams:\n",
    "    print(train_param[0])"
   ]
  },
  {
   "cell_type": "code",
   "execution_count": 17,
   "metadata": {},
   "outputs": [
    {
     "data": {
      "text/plain": [
       "tensor([[1.0043]])"
      ]
     },
     "execution_count": 17,
     "metadata": {},
     "output_type": "execute_result"
    }
   ],
   "source": [
    "dnc_model.write_strenght.data\n"
   ]
  },
  {
   "cell_type": "markdown",
   "metadata": {},
   "source": [
    "Meta:\n",
    "* c k t = C( , Mt− t , )  , write content weighting con write key y write strenght y luego fncion de similarity.\n",
    "    Usar este para aproximar  el write weithing general\n",
    "* erase vector\n",
    "* write vector\n",
    "* Con los 3 anteriores(y matriz identidad E) escribir a la memoria.  M M t t ( ) E w e w v 1 t t t t\n",
    "\n",
    "Meta 2(poe detallar)\n",
    "* L temporal link matrix\n",
    "* u_t usage vector"
   ]
  },
  {
   "cell_type": "code",
   "execution_count": null,
   "metadata": {},
   "outputs": [],
   "source": []
  }
 ],
 "metadata": {
  "kernelspec": {
   "display_name": "Python 3",
   "language": "python",
   "name": "python3"
  },
  "language_info": {
   "codemirror_mode": {
    "name": "ipython",
    "version": 3
   },
   "file_extension": ".py",
   "mimetype": "text/x-python",
   "name": "python",
   "nbconvert_exporter": "python",
   "pygments_lexer": "ipython3",
   "version": "3.7.3"
  }
 },
 "nbformat": 4,
 "nbformat_minor": 2
}
