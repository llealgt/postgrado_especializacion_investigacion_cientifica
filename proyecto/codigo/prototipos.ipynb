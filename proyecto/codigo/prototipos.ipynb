{
 "cells": [
  {
   "cell_type": "code",
   "execution_count": 1,
   "metadata": {},
   "outputs": [],
   "source": [
    "import numpy as np\n",
    "import matplotlib.pyplot as plt\n",
    "import matplotlib.image as mpimg\n",
    "import pandas as pd\n",
    "import torch as torch\n",
    "import os\n",
    "import torch.optim as optim\n",
    "import torch.nn.functional as F\n",
    "import torch.nn as nn"
   ]
  },
  {
   "cell_type": "code",
   "execution_count": 2,
   "metadata": {},
   "outputs": [],
   "source": [
    "DATA_DIRECTORY = \"../datos/\""
   ]
  },
  {
   "cell_type": "code",
   "execution_count": 3,
   "metadata": {},
   "outputs": [],
   "source": [
    "diagnosticos  = pd.read_excel(DATA_DIRECTORY+\"RESUMEN TAC CEREBRALES.xlsx\")"
   ]
  },
  {
   "cell_type": "code",
   "execution_count": 4,
   "metadata": {},
   "outputs": [],
   "source": [
    "# diccionario cuya llave es el id de paciente y el valor una lista \n",
    "# donde cada elemento de la lista es la matriz de una i\n",
    "diccionario_imagenes_pacientes = dict()\n",
    "\n",
    "for paciente in diagnosticos.paciente:\n",
    "    directorio_paciente = DATA_DIRECTORY+\"paciente_\"+str(paciente)\n",
    "    archivos_paciente = os.listdir(directorio_paciente)\n",
    "    \n",
    "    lista_imagenes_paciente = []\n",
    "    for archivo in archivos_paciente:\n",
    "        if archivo.endswith(\".jpg\"):\n",
    "            imagen = mpimg.imread(directorio_paciente+\"/\"+archivo)\n",
    "            lista_imagenes_paciente.append(imagen)\n",
    "            \n",
    "    diccionario_imagenes_pacientes[paciente] = lista_imagenes_paciente\n",
    "    "
   ]
  },
  {
   "cell_type": "markdown",
   "metadata": {},
   "source": [
    "## Modelos y arquitecturas\n",
    "### Arquitecturas experimental  DNC\n",
    "* Alimentamos al modelo imagen por imagen y se presenta un solo diagnostico por paciente\n",
    "* El controller de la DNC esta compuesto por una convnet"
   ]
  },
  {
   "cell_type": "code",
   "execution_count": 5,
   "metadata": {},
   "outputs": [],
   "source": [
    "CONTROLLER_OUTPUT_SIZE = 1024"
   ]
  },
  {
   "cell_type": "code",
   "execution_count": 6,
   "metadata": {},
   "outputs": [],
   "source": [
    "#TODO: cambiar valores quemados por valores parametrizados y calculos dependientes\n",
    "class ConvController(torch.nn.Module):\n",
    "    \n",
    "    def __init__(self):\n",
    "        super().__init__()\n",
    "        self.conv1 = torch.nn.Conv2d(1,4,kernel_size=3,stride=1)\n",
    "        self.fc1  =  torch.nn.Linear(262144,CONTROLLER_OUTPUT_SIZE)\n",
    "        \n",
    "    def forward(self,x):\n",
    "        h = self.conv1(x)\n",
    "        \n",
    "        #flatten\n",
    "        h =  x.view(-1,x.shape[1]*x.shape[2]*x.shape[3])\n",
    "        h =  self.fc1(h)\n",
    "        \n",
    "        return h #h_t in my txt"
   ]
  },
  {
   "cell_type": "code",
   "execution_count": 7,
   "metadata": {},
   "outputs": [],
   "source": [
    "#TODO: cambiar valores quemados por valores parametrizados y calculos dependientes\n",
    "#TODO: cordar por que en algun momento le puse bias = False a los pesos del vector de salida de la DNC\n",
    "class DNC(torch.nn.Module):\n",
    "    \n",
    "    def __init__(self,controller,memory_size = (10,10),read_heads = 1):\n",
    "        super().__init__()\n",
    "        self.controller = controller\n",
    "        self.N = memory_size[0] # number of memory locations\n",
    "        self.W = memory_size[1] # word size of the memory \n",
    "        self.R = read_heads # number of read heads\n",
    "        self.WS = 1 #not in the paper(they use 1), but used as a parametrizable number of write heads for further experiments\n",
    "        self.interface_vector_size = (self.W*self.R) + (self.W*self.WS) + (2*self.W) + (5*self.R) + 3\n",
    "        \n",
    "        # inicialization st to random just for testing, remember to put on zeros\n",
    "        self.memory_matrix = self.memory_matrix =  nn.Parameter(torch.randn(size=memory_size),requires_grad= False) \n",
    "        \n",
    "        #1024 es el tamaño del vector de salida del controlador, 1 es el tamaño de salida de la dnc\n",
    "        self.output_vector_linear = torch.nn.Linear(CONTROLLER_OUTPUT_SIZE,1,bias=False) #W_y \n",
    "        self.interface_vector_linear = torch.nn.Linear(CONTROLLER_OUTPUT_SIZE,self.interface_vector_size,bias=False) #W_ξ\n",
    "        self.read_vectors_to_output_linear = torch.nn.Linear(self.R*self.W,1,bias = False) #W_r in my txt\n",
    "        \n",
    "        self.read_keys = torch.Tensor(size=(self.R,self.W)).requires_grad_(False) # k_r in my txt\n",
    "        self.read_strenghts = torch.Tensor(size=(self.R,1)).requires_grad_(False) #β_r\n",
    "        \n",
    "        self.read_weighting = torch.Tensor(torch.zeros(size=(self.R,self.N))).requires_grad_(False) #r_w\n",
    "        \n",
    "        self.write_key = torch.Tensor(size=(1,self.W)).requires_grad_(False) # k_w in my txt\n",
    "        self.write_strenght = torch.Tensor(size=(1,1)).requires_grad_(False) # β_w\n",
    "        \n",
    "        self.write_weighting = torch.Tensor(torch.zeros(size=(1,self.N))).requires_grad_(False) # w_w\n",
    "        \n",
    "        self.usage_vector = torch.Tensor(torch.zeros(size=(1,self.N))).requires_grad_(False) #u_t\n",
    "        \n",
    "        self.memory_matrix_ones = torch.Tensor(torch.ones(size=memory_size)).requires_grad_(False) #E on paper\n",
    "        \n",
    "    def forward(self,x):\n",
    "        h_t = self.controller(x) #controller output called ht in the paper\n",
    "        \n",
    "        output_vector = self.output_vector_linear(h_t) # called Vt in the paper(υ=Wy[h1;...;hL]) v_o_t in my txt\n",
    "        interface_vector = self.interface_vector_linear(h_t).data #called ξt(ksi) in the paper ,ξ_t in my txt\n",
    "        \n",
    "        self.read_keys.data = interface_vector[0,0:self.R*self.W].view((self.R,self.W)) #k_r in my txt\n",
    "        \n",
    "        #clamp temporary added because the exp was returning inf  values\n",
    "        read_strenghts =  torch.clamp( interface_vector[0,self.R*self.W:self.R*self.W+self.R].view((self.R,1)),max=85)\n",
    "        self.read_strenghts.data = self.oneplus(read_strenghts) #β_r\n",
    "        \n",
    "        self.write_key.data = interface_vector[0,self.R*self.W+self.R:self.R*self.W+self.R+self.W].view((1,self.W)) # k_w\n",
    "        \n",
    "        write_strenght = torch.clamp(interface_vector[:,self.R*self.W+self.R+self.W:self.R*self.W+self.R+self.W + 1].view((1,1)),max=85)\n",
    "        self.write_strenght.data = self.oneplus(write_strenght) #β_w\n",
    "        \n",
    "        erase_vector = interface_vector[0,self.R*self.W+self.R+self.W + 1: self.R*self.W+self.R+self.W + 1 + self.W].view((1,self.W))\n",
    "        erase_vector = torch.sigmoid(erase_vector) #e_t\n",
    "        \n",
    "        write_vector = interface_vector[0,self.R*self.W+self.R+self.W + 1 + self.W:self.R*self.W+self.R+self.W + 1 + 2*self.W].view((1,self.W)) #v_t\n",
    "        \n",
    "        free_gates  =  interface_vector[0,self.R*self.W+self.R+self.W + 1 + 2*self.W:self.R*self.W+2*self.R+self.W + 1 + 2*self.W].view((self.R,1)) #f_t\n",
    "        free_gates =   torch.sigmoid(free_gates)\n",
    "        \n",
    "        # Escritura\n",
    "        # TODO: verificar y/o experimentar si el ordern es :primero escribir y luego leer de la memoria(asi parece en el pazper)\n",
    "        print(\"free gates\",free_gates,free_gates.size())\n",
    "        print(\"read wei\",self.read_weighting,self.read_weighting.size())\n",
    "        retention_vector = (1.0 - free_gates * self.read_weighting).prod(dim=0)\n",
    "        print(\"usage\",self.usage_vector)\n",
    "        print(\"write weit\",self.write_weighting)\n",
    "        print(\"retention\",retention_vector)\n",
    "        self.usage_vector.data = (self.usage_vector +self.write_weighting - (self.usage_vector *self.write_weighting))*retention_vector #u_t\n",
    "        _,free_list = torch.topk(-self.usage_vector,self.N,dim=1) #φt indices of memory locations ordered by usage\n",
    "        print(\"usage post\",self.usage_vector)\n",
    "        print(\"free list\",free_list)\n",
    "        allocation_weighting = tf.zeros_like(self.usage_vector)\n",
    "        se\n",
    "        allocation_weighting = (torch.gather(self.usage_vector,1,free_list))\n",
    "        print(\"allo\",allocation_weighting)\n",
    "        print(\"-------------------------------------------------\")\n",
    "        write_content_weighting = self.content_lookup(self.memory_matrix,self.write_key,self.write_strenght)\n",
    "\n",
    "        self.write_weighting.data = write_content_weighting #TODO: this should be a combination of temporal and dymamic allocaiton\n",
    "        \n",
    "        new_memory_matrix = self.memory_matrix*(self.memory_matrix_ones - torch.matmul(self.write_weighting.t(),erase_vector)) + torch.matmul(self.write_weighting.t(),write_vector)\n",
    "        \n",
    "        self.memory_matrix.data = new_memory_matrix\n",
    "        \n",
    "        # read by content weithing(attention by similarity)\n",
    "        read_content_weighting = self.content_lookup(self.memory_matrix,self.read_keys,self.read_strenghts)\n",
    "        \n",
    "        #read weithing is a combination of reading modes,TODO:add temporal attention not just by similarity\n",
    "        self.read_weighting.data = read_content_weighting\n",
    "        \n",
    "        read_vectors = torch.matmul(self.read_weighting,self.memory_matrix).view((1,self.R*self.W)) #r in my txt\n",
    "        read_heads_to_output = self.read_vectors_to_output_linear(read_vectors) #v_r_t in my t xt\n",
    "        \n",
    "        #TODO: experiment and decide if maintain sigmoid\n",
    "        y_t = torch.sigmoid(output_vector + read_heads_to_output)\n",
    "        return y_t\n",
    "    \n",
    "    def oneplus(self,x):\n",
    "        # apply oneplus operation to a tensor to constrain it's elements to [1,inf)\n",
    "        #TODO: check numerical statiliby as exp is returning inf for numbers like 710,emporary added clamp to 85\n",
    "        return torch.log(1+torch.exp(x)) + 1\n",
    "    \n",
    "    def content_lookup(self,matrix,keys,strengths):\n",
    "        # returns a probability distribution over the memory locations \n",
    "        # with higher probability to memory locations with bigger similarity to the keys\n",
    "        # bigger strenght make more aggresive distributions ,for example a distribution (0.2,0.3,0.5) with\n",
    "        # bigger strenght becomes (0.1,0.12,0.78)\n",
    "        # returns tensor of shape (read keys,memory size) = (R,N)\n",
    "        keys_norm =  torch.sqrt(torch.sum(keys**2,dim=1).unsqueeze(dim=1))\n",
    "        matrix_norm = torch.sqrt(torch.sum(matrix**2,dim=1))\n",
    "        norms_multiplication = keys_norm*matrix_norm\n",
    "        # calc cosine similarity between keys and memory locations(1e-6 is used avoiding div by 0)\n",
    "        divide_zero_prevent_factor = torch.zeros_like(norms_multiplication,requires_grad=False).add_(1e-6)\n",
    "        cosine_similarity = torch.matmul(keys,matrix.t())/(torch.max(norms_multiplication,divide_zero_prevent_factor))\n",
    "        \n",
    "        # do a \"strenght\" softmax to calculate the probability distribution\n",
    "        numerator = torch.exp(cosine_similarity*strengths)\n",
    "        denominator = numerator.sum(dim=1).unsqueeze(dim=1)\n",
    "\n",
    "        distribution = numerator/denominator\n",
    "        \n",
    "        return distribution"
   ]
  },
  {
   "cell_type": "markdown",
   "metadata": {},
   "source": [
    "## Experimentos\n",
    "* Experimentando con DNC alimentando una imagen a la vez en orden aleatorio con pacientes también en orden aleatorio"
   ]
  },
  {
   "cell_type": "code",
   "execution_count": 8,
   "metadata": {},
   "outputs": [],
   "source": [
    "device = torch.device(\"cuda:0\" if torch.cuda.is_available() else \"cpu\")"
   ]
  },
  {
   "cell_type": "code",
   "execution_count": 9,
   "metadata": {},
   "outputs": [],
   "source": [
    "EPOCHS = 1"
   ]
  },
  {
   "cell_type": "code",
   "execution_count": 10,
   "metadata": {},
   "outputs": [],
   "source": [
    "conv_controller = ConvController()\n",
    "dnc_model = DNC(controller=conv_controller,memory_size = (4,4),read_heads=2).to(device)"
   ]
  },
  {
   "cell_type": "code",
   "execution_count": 11,
   "metadata": {},
   "outputs": [],
   "source": [
    "def loss_function(y,y_hat,last_flag):\n",
    "    #print(y,y_hat,last_flag)\n",
    "    base_criterion = torch.nn.BCELoss()\n",
    "    return torch.full_like(y,last_flag) * base_criterion(y,y_hat)"
   ]
  },
  {
   "cell_type": "code",
   "execution_count": 12,
   "metadata": {},
   "outputs": [],
   "source": [
    "criterion = loss_function\n",
    "optimizer = optim.Adam(dnc_model.parameters(),lr=0.001)"
   ]
  },
  {
   "cell_type": "code",
   "execution_count": 13,
   "metadata": {},
   "outputs": [
    {
     "name": "stdout",
     "output_type": "stream",
     "text": [
      "Alimentando paciente 5 e imagen 4 al modelo (512, 512)\n",
      "free gates tensor([[5.5404e-16],\n",
      "        [1.4727e-27]]) torch.Size([2, 1])\n",
      "read wei tensor([[0., 0., 0., 0.],\n",
      "        [0., 0., 0., 0.]]) torch.Size([2, 4])\n",
      "usage tensor([[0., 0., 0., 0.]])\n",
      "write weit tensor([[0., 0., 0., 0.]])\n",
      "retention tensor([1., 1., 1., 1.])\n",
      "usage post tensor([[0., 0., 0., 0.]])\n",
      "free list tensor([[0, 1, 2, 3]])\n",
      "allo tensor([[0., 0., 0., 0.]])\n",
      "-------------------------------------------------\n"
     ]
    },
    {
     "name": "stderr",
     "output_type": "stream",
     "text": [
      "/Users/llealhernandez/anaconda3/envs/pytorch/lib/python3.7/site-packages/torch/nn/modules/loss.py:512: UserWarning: Using a target size (torch.Size([])) that is different to the input size (torch.Size([1, 1])) is deprecated. Please ensure they have the same size.\n",
      "  return F.binary_cross_entropy(input, target, weight=self.weight, reduction=self.reduction)\n"
     ]
    },
    {
     "name": "stdout",
     "output_type": "stream",
     "text": [
      "Alimentando paciente 5 e imagen 8 al modelo (512, 512)\n",
      "free gates tensor([[5.1615e-18],\n",
      "        [2.2108e-26]]) torch.Size([2, 1])\n",
      "read wei tensor([[6.5591e-01, 2.6422e-01, 3.4248e-02, 4.5619e-02],\n",
      "        [9.9996e-01, 1.7717e-07, 1.5571e-05, 1.9924e-05]]) torch.Size([2, 4])\n",
      "usage tensor([[0., 0., 0., 0.]])\n",
      "write weit tensor([[0.1137, 0.1354, 0.3678, 0.3831]])\n",
      "retention tensor([1., 1., 1., 1.])\n",
      "usage post tensor([[0.1137, 0.1354, 0.3678, 0.3831]])\n",
      "free list tensor([[0, 1, 2, 3]])\n",
      "allo tensor([[0.1137, 0.1354, 0.3678, 0.3831]])\n",
      "-------------------------------------------------\n",
      "Alimentando paciente 5 e imagen 6 al modelo (512, 512)\n",
      "free gates tensor([[7.7277e-01],\n",
      "        [2.5757e-18]]) torch.Size([2, 1])\n",
      "read wei tensor([[3.5656e-01, 2.6856e-01, 1.7396e-01, 2.0092e-01],\n",
      "        [1.2680e-12, 1.6513e-15, 9.9998e-01, 1.9845e-05]]) torch.Size([2, 4])\n",
      "usage tensor([[0.1137, 0.1354, 0.3678, 0.3831]])\n",
      "write weit tensor([[1.6026e-06, 1.5968e-06, 7.8865e-01, 2.1134e-01]])\n",
      "retention tensor([0.7245, 0.7925, 0.8656, 0.8447])\n",
      "usage post tensor([[0.0824, 0.1073, 0.7499, 0.4338]])\n",
      "free list tensor([[0, 1, 3, 2]])\n",
      "allo tensor([[0.0824, 0.1073, 0.4338, 0.7499]])\n",
      "-------------------------------------------------\n",
      "Alimentando paciente 5 e imagen 9 al modelo (512, 512)\n",
      "free gates tensor([[1.1737e-09],\n",
      "        [3.5329e-15]]) torch.Size([2, 1])\n",
      "read wei tensor([[9.9992e-01, 8.1568e-05, 8.1451e-07, 8.5786e-07],\n",
      "        [6.8445e-18, 2.1366e-12, 7.7153e-01, 2.2847e-01]]) torch.Size([2, 4])\n",
      "usage tensor([[0.0824, 0.1073, 0.7499, 0.4338]])\n",
      "write weit tensor([[1.4438e-12, 1.3456e-04, 5.1693e-04, 9.9935e-01]])\n",
      "retention tensor([1., 1., 1., 1.])\n",
      "usage post tensor([[0.0824, 0.1074, 0.7501, 0.9996]])\n",
      "free list tensor([[0, 1, 2, 3]])\n",
      "allo tensor([[0.0824, 0.1074, 0.7501, 0.9996]])\n",
      "-------------------------------------------------\n",
      "Alimentando paciente 5 e imagen 13 al modelo (512, 512)\n",
      "free gates tensor([[7.4438e-04],\n",
      "        [4.1432e-18]]) torch.Size([2, 1])\n",
      "read wei tensor([[9.5131e-01, 3.0689e-02, 1.7242e-02, 7.6066e-04],\n",
      "        [1.7696e-13, 9.6605e-08, 9.9249e-01, 7.5090e-03]]) torch.Size([2, 4])\n",
      "usage tensor([[0.0824, 0.1074, 0.7501, 0.9996]])\n",
      "write weit tensor([[7.0153e-18, 8.8411e-16, 8.2034e-01, 1.7966e-01]])\n",
      "retention tensor([0.9993, 1.0000, 1.0000, 1.0000])\n",
      "usage post tensor([[0.0823, 0.1074, 0.9551, 0.9997]])\n",
      "free list tensor([[0, 1, 2, 3]])\n",
      "allo tensor([[0.0823, 0.1074, 0.9551, 0.9997]])\n",
      "-------------------------------------------------\n",
      "Alimentando paciente 5 e imagen 10 al modelo (512, 512)\n",
      "free gates tensor([[6.9034e-11],\n",
      "        [1.9395e-10]]) torch.Size([2, 1])\n",
      "read wei tensor([[9.9567e-01, 3.1792e-03, 1.7683e-04, 9.7845e-04],\n",
      "        [7.4070e-15, 7.7363e-01, 1.8239e-03, 2.2454e-01]]) torch.Size([2, 4])\n",
      "usage tensor([[0.0823, 0.1074, 0.9551, 0.9997]])\n",
      "write weit tensor([[1.2793e-16, 4.9387e-15, 9.9994e-01, 5.9149e-05]])\n",
      "retention tensor([1., 1., 1., 1.])\n",
      "usage post tensor([[0.0823, 0.1074, 1.0000, 0.9997]])\n",
      "free list tensor([[0, 1, 3, 2]])\n",
      "allo tensor([[0.0823, 0.1074, 0.9997, 1.0000]])\n",
      "-------------------------------------------------\n",
      "Alimentando paciente 5 e imagen 0 al modelo (512, 512)\n",
      "free gates tensor([[4.9829e-01],\n",
      "        [2.8148e-04]]) torch.Size([2, 1])\n",
      "read wei tensor([[9.9766e-01, 1.8796e-03, 3.7520e-05, 4.2579e-04],\n",
      "        [2.1449e-07, 3.1928e-01, 2.0372e-05, 6.8070e-01]]) torch.Size([2, 4])\n",
      "usage tensor([[0.0823, 0.1074, 1.0000, 0.9997]])\n",
      "write weit tensor([[2.6457e-09, 1.5342e-01, 6.8273e-02, 7.7830e-01]])\n",
      "retention tensor([0.5029, 0.9990, 1.0000, 0.9996])\n",
      "usage post tensor([[0.0414, 0.2441, 1.0000, 0.9995]])\n",
      "free list tensor([[0, 1, 3, 2]])\n",
      "allo tensor([[0.0414, 0.2441, 0.9995, 1.0000]])\n",
      "-------------------------------------------------\n",
      "Alimentando paciente 5 e imagen 7 al modelo (512, 512)\n",
      "free gates tensor([[4.9572e-15],\n",
      "        [1.0308e-12]]) torch.Size([2, 1])\n",
      "read wei tensor([[9.8600e-01, 1.3952e-02, 2.2361e-05, 2.5672e-05],\n",
      "        [8.6919e-07, 1.9931e-02, 9.8006e-01, 4.6316e-06]]) torch.Size([2, 4])\n",
      "usage tensor([[0.0414, 0.2441, 1.0000, 0.9995]])\n",
      "write weit tensor([[2.4085e-10, 9.9837e-01, 2.1354e-06, 1.6305e-03]])\n",
      "retention tensor([1., 1., 1., 1.])\n",
      "usage post tensor([[0.0414, 0.9988, 1.0000, 0.9995]])\n",
      "free list tensor([[0, 1, 3, 2]])\n",
      "allo tensor([[0.0414, 0.9988, 0.9995, 1.0000]])\n",
      "-------------------------------------------------\n",
      "Alimentando paciente 5 e imagen 11 al modelo (512, 512)\n",
      "free gates tensor([[2.2641e-04],\n",
      "        [1.7574e-23]]) torch.Size([2, 1])\n",
      "read wei tensor([[0.4942, 0.3179, 0.1069, 0.0810],\n",
      "        [0.1718, 0.0182, 0.0083, 0.8017]]) torch.Size([2, 4])\n",
      "usage tensor([[0.0414, 0.9988, 1.0000, 0.9995]])\n",
      "write weit tensor([[0.0605, 0.0365, 0.0446, 0.8584]])\n",
      "retention tensor([0.9999, 0.9999, 1.0000, 1.0000])\n",
      "usage post tensor([[0.0994, 0.9987, 1.0000, 0.9999]])\n",
      "free list tensor([[0, 1, 3, 2]])\n",
      "allo tensor([[0.0994, 0.9987, 0.9999, 1.0000]])\n",
      "-------------------------------------------------\n",
      "Alimentando paciente 5 e imagen 1 al modelo (512, 512)\n",
      "free gates tensor([[3.9392e-07],\n",
      "        [2.6976e-08]]) torch.Size([2, 1])\n",
      "read wei tensor([[1.1871e-01, 8.7613e-01, 1.2371e-03, 3.9277e-03],\n",
      "        [2.1022e-05, 1.2757e-11, 5.7818e-06, 9.9997e-01]]) torch.Size([2, 4])\n",
      "usage tensor([[0.0994, 0.9987, 1.0000, 0.9999]])\n",
      "write weit tensor([[9.9652e-01, 3.0990e-03, 4.2241e-05, 3.3620e-04]])\n",
      "retention tensor([1.0000, 1.0000, 1.0000, 1.0000])\n",
      "usage post tensor([[0.9969, 0.9987, 1.0000, 0.9999]])\n",
      "free list tensor([[0, 1, 3, 2]])\n",
      "allo tensor([[0.9969, 0.9987, 0.9999, 1.0000]])\n",
      "-------------------------------------------------\n",
      "Alimentando paciente 5 e imagen 5 al modelo (512, 512)\n",
      "free gates tensor([[4.8945e-06],\n",
      "        [2.7204e-14]]) torch.Size([2, 1])\n",
      "read wei tensor([[0.2290, 0.2893, 0.2919, 0.1899],\n",
      "        [0.2736, 0.6968, 0.0203, 0.0093]]) torch.Size([2, 4])\n",
      "usage tensor([[0.9969, 0.9987, 1.0000, 0.9999]])\n",
      "write weit tensor([[0.2386, 0.2126, 0.2300, 0.3188]])\n",
      "retention tensor([1.0000, 1.0000, 1.0000, 1.0000])\n",
      "usage post tensor([[0.9976, 0.9990, 1.0000, 0.9999]])\n",
      "free list tensor([[0, 1, 3, 2]])\n",
      "allo tensor([[0.9976, 0.9990, 0.9999, 1.0000]])\n",
      "-------------------------------------------------\n",
      "Alimentando paciente 5 e imagen 3 al modelo (512, 512)\n",
      "free gates tensor([[9.9980e-01],\n",
      "        [2.9290e-07]]) torch.Size([2, 1])\n",
      "read wei tensor([[4.2321e-01, 4.3811e-01, 1.6112e-02, 1.2256e-01],\n",
      "        [2.1397e-05, 5.3907e-08, 9.9978e-01, 1.9903e-04]]) torch.Size([2, 4])\n",
      "usage tensor([[0.9976, 0.9990, 1.0000, 0.9999]])\n",
      "write weit tensor([[5.6977e-10, 2.9852e-17, 2.1975e-15, 1.0000e+00]])\n",
      "retention tensor([0.5769, 0.5620, 0.9839, 0.8775])\n",
      "usage post tensor([[0.5755, 0.5614, 0.9839, 0.8775]])\n",
      "free list tensor([[1, 0, 3, 2]])\n",
      "allo tensor([[0.5614, 0.5755, 0.8775, 0.9839]])\n",
      "-------------------------------------------------\n",
      "Alimentando paciente 5 e imagen 2 al modelo (512, 512)\n",
      "free gates tensor([[2.4964e-01],\n",
      "        [9.0655e-08]]) torch.Size([2, 1])\n",
      "read wei tensor([[2.6397e-01, 2.8017e-01, 2.2150e-01, 2.3436e-01],\n",
      "        [9.3789e-01, 2.4898e-02, 3.9099e-06, 3.7213e-02]]) torch.Size([2, 4])\n",
      "usage tensor([[0.5755, 0.5614, 0.9839, 0.8775]])\n",
      "write weit tensor([[5.1803e-02, 9.4206e-01, 6.1377e-03, 6.0414e-07]])\n",
      "retention tensor([0.9341, 0.9301, 0.9447, 0.9415])\n",
      "usage post tensor([[0.5581, 0.9064, 0.9295, 0.8261]])\n",
      "free list tensor([[0, 3, 1, 2]])\n",
      "allo tensor([[0.5581, 0.8261, 0.9064, 0.9295]])\n",
      "-------------------------------------------------\n"
     ]
    }
   ],
   "source": [
    "for epoch in range(EPOCHS):\n",
    "    # en cada epoch procesar los pacientes en orden aleatorio\n",
    "    pacientes = np.random.choice(np.array(diagnosticos.paciente),size= len(diagnosticos.paciente),replace=False)\n",
    "    \n",
    "    conteo_pacientes = 0\n",
    "    for paciente in pacientes:\n",
    "        #TODO: remover esta validacion, solo puesta para probar una unica iteracion en compu lenta\n",
    "        if conteo_pacientes >= 1:\n",
    "            break\n",
    "            \n",
    "        imagenes_paciente = diccionario_imagenes_pacientes.get(paciente)\n",
    "        diagnostico_hemorragia_paciente = np.array(float(diagnosticos[diagnosticos.paciente==paciente].hemorragia))\n",
    "        tensor_diagnostico_hemorragia_paciente = torch.Tensor(diagnostico_hemorragia_paciente).to(device)\n",
    "        \n",
    "        indices_imagenes_pacientes = np.arange(0,len(imagenes_paciente)-1,step=1)\n",
    "        indices_aleatorios_imagenes = np.random.choice(indices_imagenes_pacientes,len(indices_imagenes_pacientes),replace=False)\n",
    "        \n",
    "        for indice in indices_aleatorios_imagenes:\n",
    "            last_image =  int(indice  == indices_aleatorios_imagenes[-1])\n",
    "            \n",
    "            optimizer.zero_grad()\n",
    "            \n",
    "            imagen_paciente = imagenes_paciente[indice]\n",
    "            \n",
    "            if imagen_paciente.shape != (512,512):\n",
    "                #TODO: tread different image sizes with reshaping, resizing(or other ideas)\n",
    "                continue\n",
    "                \n",
    "            tensor_imagen_paciente =  torch.unsqueeze(\n",
    "                torch.unsqueeze( torch.Tensor(imagen_paciente),dim=0),dim=1).to(device)\n",
    "            \n",
    "            print(\"Alimentando paciente {} e imagen {} al modelo\".format(paciente,indice),imagen_paciente.shape)\n",
    "            \n",
    "            diagnostico_hemorragia_aproximado = dnc_model(tensor_imagen_paciente)\n",
    "            \n",
    "            loss = criterion(diagnostico_hemorragia_aproximado,tensor_diagnostico_hemorragia_paciente,last_image)\n",
    "            loss.backward()\n",
    "            optimizer.step()\n",
    "            \n",
    "            if last_image:\n",
    "                print(loss.cpu().data,diagnostico_hemorragia_aproximado.cpu().data)\n",
    "                \n",
    "            conteo_pacientes += 1"
   ]
  },
  {
   "cell_type": "code",
   "execution_count": 14,
   "metadata": {},
   "outputs": [
    {
     "name": "stdout",
     "output_type": "stream",
     "text": [
      "torch.Size([2, 4])\n"
     ]
    },
    {
     "data": {
      "text/plain": [
       "tensor([24., 42., 64., 90.])"
      ]
     },
     "execution_count": 14,
     "metadata": {},
     "output_type": "execute_result"
    }
   ],
   "source": [
    "a = torch.Tensor([[1],\n",
    "        [2]]) \n",
    "b = torch.Tensor([[6,7,8,9],\n",
    "        [2,3,4,5]]) \n",
    "\n",
    "print(b.size())\n",
    "\n",
    "(a*b).prod(dim=0)"
   ]
  },
  {
   "cell_type": "code",
   "execution_count": 15,
   "metadata": {},
   "outputs": [
    {
     "name": "stdout",
     "output_type": "stream",
     "text": [
      "memory_matrix\n",
      "controller.conv1.weight\n",
      "controller.conv1.bias\n",
      "controller.fc1.weight\n",
      "controller.fc1.bias\n",
      "output_vector_linear.weight\n",
      "interface_vector_linear.weight\n",
      "read_vectors_to_output_linear.weight\n"
     ]
    }
   ],
   "source": [
    "#TODO: averiguar por que salen 6 tensores de parametros si solo se han declarado 3(al momento de correr lap rueba)\n",
    "train_parmams = list(dnc_model.named_parameters())\n",
    "\n",
    "for train_param in train_parmams:\n",
    "    print(train_param[0])"
   ]
  },
  {
   "cell_type": "code",
   "execution_count": 16,
   "metadata": {},
   "outputs": [
    {
     "data": {
      "text/plain": [
       "tensor([[67.8687]])"
      ]
     },
     "execution_count": 16,
     "metadata": {},
     "output_type": "execute_result"
    }
   ],
   "source": [
    "dnc_model.write_strenght.data\n"
   ]
  },
  {
   "cell_type": "markdown",
   "metadata": {},
   "source": [
    "Meta (por detallar)\n",
    "* Calcular memory retention vector(con los free gates)\n",
    "* L temporal link matrix\n",
    "* u_t usage vector"
   ]
  },
  {
   "cell_type": "code",
   "execution_count": null,
   "metadata": {},
   "outputs": [],
   "source": []
  }
 ],
 "metadata": {
  "kernelspec": {
   "display_name": "Python 3",
   "language": "python",
   "name": "python3"
  },
  "language_info": {
   "codemirror_mode": {
    "name": "ipython",
    "version": 3
   },
   "file_extension": ".py",
   "mimetype": "text/x-python",
   "name": "python",
   "nbconvert_exporter": "python",
   "pygments_lexer": "ipython3",
   "version": "3.7.3"
  }
 },
 "nbformat": 4,
 "nbformat_minor": 2
}
