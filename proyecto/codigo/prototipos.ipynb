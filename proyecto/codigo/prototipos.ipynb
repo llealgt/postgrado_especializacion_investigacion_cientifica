{
 "cells": [
  {
   "cell_type": "code",
   "execution_count": 1,
   "metadata": {},
   "outputs": [
    {
     "name": "stdout",
     "output_type": "stream",
     "text": [
      "Pixiedust database opened successfully\n"
     ]
    },
    {
     "data": {
      "text/html": [
       "\n",
       "        <div style=\"margin:10px\">\n",
       "            <a href=\"https://github.com/ibm-watson-data-lab/pixiedust\" target=\"_new\">\n",
       "                <img src=\"https://github.com/ibm-watson-data-lab/pixiedust/raw/master/docs/_static/pd_icon32.png\" style=\"float:left;margin-right:10px\"/>\n",
       "            </a>\n",
       "            <span>Pixiedust version 1.1.15</span>\n",
       "        </div>\n",
       "        "
      ],
      "text/plain": [
       "<IPython.core.display.HTML object>"
      ]
     },
     "metadata": {},
     "output_type": "display_data"
    },
    {
     "data": {
      "text/html": [
       "<div>Warning: You are not running the latest version of PixieDust. Current is 1.1.15, Latest is 1.1.17</div>"
      ],
      "text/plain": [
       "<IPython.core.display.HTML object>"
      ]
     },
     "metadata": {},
     "output_type": "display_data"
    },
    {
     "data": {
      "text/html": [
       "\n",
       "                <div>Please copy and run the following command in a new cell to upgrade: <span style=\"background-color:#ececec;font-family:monospace;padding:0 5px\">!pip install --user --upgrade pixiedust</span></div>\n",
       "            "
      ],
      "text/plain": [
       "<IPython.core.display.HTML object>"
      ]
     },
     "metadata": {},
     "output_type": "display_data"
    },
    {
     "data": {
      "text/html": [
       "<div>Please restart kernel after upgrading.</div>"
      ],
      "text/plain": [
       "<IPython.core.display.HTML object>"
      ]
     },
     "metadata": {},
     "output_type": "display_data"
    }
   ],
   "source": [
    "import numpy as np\n",
    "import matplotlib.pyplot as plt\n",
    "import matplotlib.image as mpimg\n",
    "import pandas as pd\n",
    "import torch as torch\n",
    "import os\n",
    "import torch.optim as optim\n",
    "import torch.nn.functional as F\n",
    "import torch.nn as nn\n",
    "import pixiedust\n",
    "from torchvision import transforms,datasets,models\n",
    "from collections import OrderedDict"
   ]
  },
  {
   "cell_type": "code",
   "execution_count": 2,
   "metadata": {},
   "outputs": [],
   "source": [
    "DATA_DIRECTORY = \"../datos/\""
   ]
  },
  {
   "cell_type": "code",
   "execution_count": 3,
   "metadata": {},
   "outputs": [],
   "source": [
    "diagnosticos  = pd.read_excel(DATA_DIRECTORY+\"RESUMEN TAC CEREBRALES.xlsx\")"
   ]
  },
  {
   "cell_type": "code",
   "execution_count": 4,
   "metadata": {},
   "outputs": [],
   "source": [
    "# diccionario cuya llave es el id de paciente y el valor una lista \n",
    "# donde cada elemento de la lista es la matriz de una i\n",
    "diccionario_imagenes_pacientes = dict()\n",
    "\n",
    "for paciente in diagnosticos.paciente:\n",
    "    directorio_paciente = DATA_DIRECTORY+\"paciente_\"+str(paciente)\n",
    "    archivos_paciente = os.listdir(directorio_paciente)\n",
    "    \n",
    "    lista_imagenes_paciente = []\n",
    "    for archivo in archivos_paciente:\n",
    "        if archivo.endswith(\".jpg\"):\n",
    "            imagen = mpimg.imread(directorio_paciente+\"/\"+archivo)\n",
    "            lista_imagenes_paciente.append(imagen)\n",
    "            \n",
    "    diccionario_imagenes_pacientes[paciente] = lista_imagenes_paciente\n",
    "    "
   ]
  },
  {
   "cell_type": "markdown",
   "metadata": {},
   "source": [
    "## Modelos y arquitecturas\n",
    "### Arquitecturas experimental  DNC\n",
    "* Alimentamos al modelo imagen por imagen y se presenta un solo diagnostico por paciente\n",
    "* El controller de la DNC esta compuesto por una convnet"
   ]
  },
  {
   "cell_type": "code",
   "execution_count": 5,
   "metadata": {},
   "outputs": [],
   "source": [
    "CONTROLLER_OUTPUT_SIZE = 128\n",
    "READ_HEADS = 2"
   ]
  },
  {
   "cell_type": "code",
   "execution_count": 6,
   "metadata": {},
   "outputs": [],
   "source": [
    "#TODO: cambiar valores quemados por valores parametrizados y calculos dependientes\n",
    "class ConvController(torch.nn.Module):\n",
    "    \n",
    "    def __init__(self):\n",
    "        super().__init__()\n",
    "        self.conv1 = torch.nn.Conv2d(1,4,kernel_size=3,stride=1)\n",
    "        self.fc1  =  torch.nn.Linear(262144,CONTROLLER_OUTPUT_SIZE)\n",
    "        \n",
    "        \n",
    "    def forward(self,x):\n",
    "        h = self.conv1(x)\n",
    "        \n",
    "        #flatten\n",
    "        h =  x.view(-1,x.shape[1]*x.shape[2]*x.shape[3])\n",
    "        h =  self.fc1(h)\n",
    "        \n",
    "        return h #h_t in my txt\n",
    "    \n",
    "class Controller(torch.nn.Module):\n",
    "    \n",
    "    def __init__(self):\n",
    "        super().__init__()\n",
    "        self.conv_controller = ConvController()\n",
    "        self.fc1 = torch.nn.Linear(10,CONTROLLER_OUTPUT_SIZE)\n",
    "        self.fc2 = torch.nn.Linear(2*CONTROLLER_OUTPUT_SIZE,CONTROLLER_OUTPUT_SIZE)\n",
    "        \n",
    "    def forward(self,x,read_vectors):\n",
    "        h_conv = self.conv_controller(x)\n",
    "        h_read_vectors = self.fc1(read_vectors)\n",
    "        \n",
    "        h_t = torch.cat((h_conv,h_read_vectors),dim=1)\n",
    "        \n",
    "        h_t =  torch.relu( h_t)\n",
    "        h_t =  self.fc2(h_t) \n",
    "        \n",
    "        return h_t"
   ]
  },
  {
   "cell_type": "code",
   "execution_count": 7,
   "metadata": {
    "pixiedust": {
     "displayParams": {}
    }
   },
   "outputs": [],
   "source": [
    "\n",
    "#TODO: cambiar valores quemados por valores parametrizados y calculos dependientes\n",
    "#TODO: cordar por que en algun momento le puse bias = False a los pesos del vector de salida de la DNC\n",
    "\n",
    "\n",
    "class DNC(torch.nn.Module):\n",
    "    \n",
    "    def __init__(self,controller,memory_size = (10,10),read_heads = 1,device=\"cpu\"):\n",
    "        super().__init__()\n",
    "        self.controller = controller\n",
    "        self.device = device\n",
    "        self.N = memory_size[0] # number of memory locations\n",
    "        self.W = memory_size[1] # word size of the memory \n",
    "        self.R = read_heads # number of read heads\n",
    "        self.WS = 1 #not in the paper(they use 1), but used as a parametrizable number of write heads for further experiments\n",
    "        self.interface_vector_size = (self.W*self.R) + (self.W*self.WS) + (2*self.W) + (5*self.R) + 3\n",
    "        \n",
    "        # inicialization st to random just for testing, remember to put on zeros\n",
    "        #self.memory_matrix = self.memory_matrix =  nn.Parameter(torch.zeros(size=memory_size),requires_grad= False) \n",
    "        \n",
    "        #1024 es el tamaño del vector de salida del controlador, 1 es el tamaño de salida de la dnc\n",
    "        self.output_vector_linear = torch.nn.Linear(CONTROLLER_OUTPUT_SIZE,1,bias=True) #W_y \n",
    "        self.interface_vector_linear = torch.nn.Linear(CONTROLLER_OUTPUT_SIZE,self.interface_vector_size,bias=True) #W_ξ\n",
    "        self.read_vectors_to_output_linear = torch.nn.Linear(self.R*self.W,1,bias = True) #W_r in my txt\n",
    "        \n",
    "        self.read_keys = torch.Tensor(size=(self.R,self.W)).requires_grad_(False) # k_r in my txt\n",
    "        self.read_strenghts = torch.Tensor(size=(self.R,1)).requires_grad_(False) #β_r\n",
    "        \n",
    "        #self.read_weighting = torch.Tensor(torch.zeros(size=(self.R,self.N))).requires_grad_(False).to(device) #r_w\n",
    "        \n",
    "        self.write_key = torch.Tensor(size=(1,self.W)).requires_grad_(False) # k_w in my txt\n",
    "        self.write_strenght = torch.Tensor(size=(1,1)).requires_grad_(False) # β_w\n",
    "        \n",
    "        #self.write_weighting = torch.Tensor(torch.zeros(size=(1,self.N))).requires_grad_(False) # w_w\n",
    "        \n",
    "        #self.usage_vector = torch.Tensor(torch.zeros(size=(1,self.N))).requires_grad_(False) #u_t\n",
    "        \n",
    "        self.memory_matrix_ones = torch.Tensor(torch.ones(size=memory_size)).requires_grad_(True).to(device) #E on paper\n",
    "        \n",
    "        self.reset()\n",
    "        \n",
    "    def forward(self,x,read_vectors):\n",
    "        \n",
    "        h_t = self.controller(x,read_vectors) #controller output called ht in the paper\n",
    "        \n",
    "        output_vector = self.output_vector_linear(h_t) # called Vt in the paper(υ=Wy[h1;...;hL]) v_o_t in my txt\n",
    "        interface_vector = self.interface_vector_linear(h_t).data #called ξt(ksi) in the paper ,ξ_t in my txt\n",
    "        \n",
    "        self.read_keys.data = interface_vector[0,0:self.R*self.W].view((self.R,self.W)) #k_r in my txt\n",
    "        \n",
    "        #clamp temporary added because the exp was returning inf  values\n",
    "        read_strenghts =  torch.clamp( interface_vector[0,self.R*self.W:self.R*self.W+self.R].view((self.R,1)),max=85)\n",
    "        self.read_strenghts.data = self.oneplus(read_strenghts) #β_r\n",
    "        \n",
    "        self.write_key.data = interface_vector[0,self.R*self.W+self.R:self.R*self.W+self.R+self.W].view((1,self.W)) # k_w\n",
    "        \n",
    "        write_strenght = torch.clamp(interface_vector[:,self.R*self.W+self.R+self.W:self.R*self.W+self.R+self.W + 1].view((1,1)),max=85)\n",
    "        self.write_strenght.data = self.oneplus(write_strenght) #β_w\n",
    "        \n",
    "        erase_vector = interface_vector[0,self.R*self.W+self.R+self.W + 1: self.R*self.W+self.R+self.W + 1 + self.W].view((1,self.W))\n",
    "        erase_vector = torch.sigmoid(erase_vector) #e_t\n",
    "        \n",
    "        write_vector = interface_vector[0,self.R*self.W+self.R+self.W + 1 + self.W:self.R*self.W+self.R+self.W + 1 + 2*self.W].view((1,self.W)) #v_t\n",
    "        \n",
    "        free_gates  =  interface_vector[0,self.R*self.W+self.R+self.W + 1 + 2*self.W:self.R*self.W+2*self.R+self.W + 1 + 2*self.W].view((self.R,1)) #f_t\n",
    "        free_gates =   torch.sigmoid(free_gates)\n",
    "        \n",
    "        allocation_gate = interface_vector[0,self.R*self.W+2*self.R+self.W + 1 + 2*self.W:self.R*self.W+2*self.R+self.W + 1 + 2*self.W+1]\n",
    "        allocation_gate = torch.sigmoid(allocation_gate)\n",
    "        \n",
    "        write_gate = interface_vector[0,self.R*self.W+2*self.R+self.W + 1 + 2*self.W+1:self.R*self.W+2*self.R+self.W + 1 + 2*self.W+2]\n",
    "        write_gate = torch.sigmoid( write_gate)\n",
    "        \n",
    "        \n",
    "        # Escritura\n",
    "        # TODO: verificar y/o experimentar si el ordern es :primero escribir y luego leer de la memoria(asi parece en el pazper)\n",
    "        retention_vector = (1.0 - free_gates * self.read_weighting).prod(dim=0)\n",
    "        self.usage_vector.data = (self.usage_vector +self.write_weighting - (self.usage_vector *self.write_weighting))*retention_vector #u_t\n",
    "        allocation_weighting = self.calc_allocation_weighting(self.usage_vector)\n",
    "        write_content_weighting = self.content_lookup(self.memory_matrix,self.write_key,self.write_strenght)\n",
    "\n",
    "        self.write_weighting.data =  write_gate*(  \n",
    "            (allocation_gate * allocation_weighting) +  ((1- allocation_gate)*write_content_weighting))\n",
    "        \n",
    "        new_memory_matrix = self.memory_matrix*(self.memory_matrix_ones - torch.matmul(self.write_weighting.t(),erase_vector)) + torch.matmul(self.write_weighting.t(),write_vector)\n",
    "        \n",
    "        self.memory_matrix.data = new_memory_matrix\n",
    "        \n",
    "        # read by content weithing(attention by similarity)\n",
    "        read_content_weighting = self.content_lookup(self.memory_matrix,self.read_keys,self.read_strenghts)\n",
    "        \n",
    "        #read weithing is a combination of reading modes,TODO:add temporal attention not just by similarity\n",
    "        self.read_weighting.data = read_content_weighting\n",
    "        \n",
    "        read_vectors = torch.matmul(self.read_weighting,self.memory_matrix).view((1,self.R*self.W)) #r in my txt\n",
    "        read_heads_to_output = self.read_vectors_to_output_linear(read_vectors) #v_r_t in my t xt\n",
    "        \n",
    "        #TODO: experiment and decide if maintain sigmoid\n",
    "        y_t = torch.sigmoid(output_vector + read_heads_to_output)\n",
    "        return y_t,read_vectors\n",
    "    \n",
    "    def oneplus(self,x):\n",
    "        # apply oneplus operation to a tensor to constrain it's elements to [1,inf)\n",
    "        #TODO: check numerical statiliby as exp is returning inf for numbers like 710,emporary added clamp to 85\n",
    "        return torch.log(1+torch.exp(x)) + 1\n",
    "    \n",
    "    def content_lookup(self,matrix,keys,strengths):\n",
    "        # returns a probability distribution over the memory locations \n",
    "        # with higher probability to memory locations with bigger similarity to the keys\n",
    "        # bigger strenght make more aggresive distributions ,for example a distribution (0.2,0.3,0.5) with\n",
    "        # bigger strenght becomes (0.1,0.12,0.78)\n",
    "        # returns tensor of shape (read keys,memory size) = (R,N)\n",
    "        keys_norm =  torch.sqrt(torch.sum(keys**2,dim=1).unsqueeze(dim=1))\n",
    "        matrix_norm = torch.sqrt(torch.sum(matrix**2,dim=1))\n",
    "        norms_multiplication = keys_norm*matrix_norm\n",
    "        # calc cosine similarity between keys and memory locations(1e-6 is used avoiding div by 0)\n",
    "        divide_zero_prevent_factor = torch.zeros_like(norms_multiplication).add_(1e-6)\n",
    "        cosine_similarity = torch.matmul(keys,matrix.t())/(torch.max(norms_multiplication,divide_zero_prevent_factor))\n",
    "        \n",
    "        # do a \"strenght\" softmax to calculate the probability distribution\n",
    "        numerator = torch.exp(cosine_similarity*strengths)\n",
    "        denominator = numerator.sum(dim=1).unsqueeze(dim=1)\n",
    "\n",
    "        distribution = numerator/denominator\n",
    "        \n",
    "        return distribution\n",
    "    \n",
    "    def calc_allocation_weighting(self,usage_vector):\n",
    "        #print(\"usage vector\",usage_vector)\n",
    "        _,free_list = torch.topk(-usage_vector,self.N,dim=1) #φt indices of memory locations ordered by usage\n",
    "        #print(\"free list\",free_list)\n",
    "        free_list = free_list.view(-1)\n",
    "        #print(\"reshaped free list\",free_list)\n",
    "        _,ordered_free_list =  torch.topk(-free_list,self.N)\n",
    "        ordered_free_list = ordered_free_list.view(-1)\n",
    "        #print(\"ordered free list\",ordered_free_list)\n",
    "        ordered_usage_vector = usage_vector[:,free_list]\n",
    "        #print(\"ordered usage vector\",ordered_usage_vector)\n",
    "        ordered_usage_vector_cumulative_product = torch.ones(size=(1,self.N+1)).to(device)\n",
    "        #print(ordered_usage_vector_cumulative_product)\n",
    "        #print(\"cumprod \",ordered_usage_vector.cumprod(dim=1))\n",
    "        ordered_usage_vector_cumulative_product[0,1:] = ordered_usage_vector.cumprod(dim=1)\n",
    "        #print(ordered_usage_vector_cumulative_product)\n",
    "        \n",
    "        allocation_weighting = (1 - usage_vector)*ordered_usage_vector_cumulative_product[0,ordered_free_list]\n",
    "        \n",
    "        return  allocation_weighting\n",
    "    \n",
    "    def reset(self):\n",
    "        self.memory_matrix =  torch.Tensor(torch.zeros(size=(self.N,self.W))).requires_grad_(True).to(device) \n",
    "        self.read_weighting = torch.Tensor(torch.zeros(size=(self.R,self.N))).requires_grad_(True).to(device) #r_w\n",
    "        self.write_weighting = torch.Tensor(torch.zeros(size=(1,self.N))).requires_grad_(True).to(device) # w_w\n",
    "        self.usage_vector = torch.Tensor(torch.zeros(size=(1,self.N))).requires_grad_(True).to(device) #u_t"
   ]
  },
  {
   "cell_type": "markdown",
   "metadata": {},
   "source": [
    "## Experimentos\n",
    "* Experimentando con DNC alimentando una imagen a la vez en orden aleatorio con pacientes también en orden aleatorio"
   ]
  },
  {
   "cell_type": "code",
   "execution_count": 8,
   "metadata": {},
   "outputs": [
    {
     "name": "stdout",
     "output_type": "stream",
     "text": [
      "cuda:0\n"
     ]
    }
   ],
   "source": [
    "device = torch.device(\"cuda:0\" if torch.cuda.is_available() else \"cpu\")\n",
    "print(device)"
   ]
  },
  {
   "cell_type": "code",
   "execution_count": 9,
   "metadata": {},
   "outputs": [],
   "source": [
    "EPOCHS = 50"
   ]
  },
  {
   "cell_type": "code",
   "execution_count": 10,
   "metadata": {},
   "outputs": [],
   "source": [
    "conv_controller = Controller()\n",
    "dnc_model = DNC(controller=conv_controller,memory_size = (5,5),read_heads=2,device=device).to(device)"
   ]
  },
  {
   "cell_type": "code",
   "execution_count": 11,
   "metadata": {},
   "outputs": [],
   "source": [
    "base_criterion = torch.nn.BCELoss()\n",
    "def loss_function(y,y_hat,last_flag):\n",
    "    #print(y,y_hat,last_flag)\n",
    "    #base_criterion = torch.nn.BCELoss()\n",
    "    return torch.full_like(y,last_flag) * base_criterion(y,y_hat)\n",
    "    #return base_criterion(y,y_hat)"
   ]
  },
  {
   "cell_type": "code",
   "execution_count": 12,
   "metadata": {},
   "outputs": [],
   "source": [
    "criterion = loss_function\n",
    "optimizer = optim.Adam(dnc_model.parameters(),lr=0.001)"
   ]
  },
  {
   "cell_type": "markdown",
   "metadata": {
    "pixiedust": {
     "displayParams": {}
    }
   },
   "source": [
    "\n",
    "total_accuracies  = []\n",
    "for epoch in range(EPOCHS):\n",
    "    epoch_predictions = []\n",
    "    epoch_real_values = []\n",
    "    # en cada epoch procesar los pacientes en orden aleatorio\n",
    "    pacientes = np.random.choice(np.array(diagnosticos.paciente),size= len(diagnosticos.paciente),replace=False)\n",
    "    \n",
    "    conteo_pacientes = 0\n",
    "    for paciente in pacientes:\n",
    "        #TODO: remover esta validacion, solo puesta para probar una unica iteracion en compu lenta\n",
    "        if conteo_pacientes >= 99999999:\n",
    "            break\n",
    "            \n",
    "        dnc_model.reset()\n",
    "        read_vectors = torch.zeros(size=(1,dnc_model.R*dnc_model.W)).to(device)\n",
    "        \n",
    "        imagenes_paciente = diccionario_imagenes_pacientes.get(paciente)\n",
    "        diagnostico_hemorragia_paciente = np.array(float(diagnosticos[diagnosticos.paciente==paciente].hemorragia))\n",
    "        tensor_diagnostico_hemorragia_paciente = torch.Tensor(diagnostico_hemorragia_paciente).to(device)\n",
    "        \n",
    "        indices_imagenes_pacientes = np.arange(0,len(imagenes_paciente)-1,step=1)\n",
    "        indices_aleatorios_imagenes = np.random.choice(indices_imagenes_pacientes,len(indices_imagenes_pacientes),replace=False)\n",
    "        \n",
    "        losses = []\n",
    "        for indice in indices_aleatorios_imagenes:\n",
    "            last_image =  int(indice  == indices_aleatorios_imagenes[-1])\n",
    "            \n",
    "            #optimizer.zero_grad()\n",
    "            \n",
    "            imagen_paciente = imagenes_paciente[indice]\n",
    "            \n",
    "            if imagen_paciente.shape != (512,512):\n",
    "                #TODO: tread different image sizes with reshaping, resizing(or other ideas)\n",
    "                continue\n",
    "                \n",
    "            tensor_imagen_paciente =  torch.unsqueeze(\n",
    "                torch.unsqueeze( torch.Tensor(imagen_paciente),dim=0),dim=1).to(device)\n",
    "            \n",
    "            #print(\"Alimentando paciente {} e imagen {} al modelo\".format(paciente,indice),imagen_paciente.shape)\n",
    "            \n",
    "            diagnostico_hemorragia_aproximado,read_vectors = dnc_model(tensor_imagen_paciente,read_vectors)\n",
    "            loss = criterion(diagnostico_hemorragia_aproximado,tensor_diagnostico_hemorragia_paciente,last_image)\n",
    "            \n",
    "            losses.append(loss.view((1,1)))\n",
    "            \n",
    "            if last_image:\n",
    "                y_hat = diagnostico_hemorragia_aproximado.data.cpu().numpy()[0][0]\n",
    "                y_hat_hard = float(y_hat >= 0.5)\n",
    "                epoch_predictions.append(y_hat_hard)\n",
    "                epoch_real_values.append(float(diagnostico_hemorragia_paciente))\n",
    "                \n",
    "                #print(\"--Flag ultima imagen:{} diagnostico:{} valor real{}\".format(last_image,y_hat,diagnostico_hemorragia_paciente))\n",
    "                optimizer.zero_grad()\n",
    "                \n",
    "                patient_loss = torch.cat(losses).sum()\n",
    "                \n",
    "                patient_loss.backward()\n",
    "                optimizer.step()\n",
    "\n",
    "                \n",
    "        conteo_pacientes += 1\n",
    "            \n",
    "    epoch_predictions = np.array(epoch_predictions)\n",
    "    epoch_real_values = np.array(epoch_real_values)\n",
    "    correct_predictions = epoch_predictions == epoch_real_values\n",
    "    accuracy = np.average(correct_predictions)\n",
    "    total_accuracies.append(accuracy)\n",
    "    print(\"Epoch {}: accuracy {}\".format(epoch,accuracy),epoch_predictions,epoch_real_values)\n",
    "\n",
    "print(np.average(total_accuracies))"
   ]
  },
  {
   "cell_type": "code",
   "execution_count": 13,
   "metadata": {},
   "outputs": [
    {
     "name": "stdout",
     "output_type": "stream",
     "text": [
      "controller.conv_controller.conv1.weight\n",
      "controller.conv_controller.conv1.bias\n",
      "controller.conv_controller.fc1.weight\n",
      "controller.conv_controller.fc1.bias\n",
      "controller.fc1.weight\n",
      "controller.fc1.bias\n",
      "controller.fc2.weight\n",
      "controller.fc2.bias\n",
      "output_vector_linear.weight\n",
      "output_vector_linear.bias\n",
      "interface_vector_linear.weight\n",
      "interface_vector_linear.bias\n",
      "read_vectors_to_output_linear.weight\n",
      "read_vectors_to_output_linear.bias\n"
     ]
    }
   ],
   "source": [
    "#TODO: averiguar por que salen 6 tensores de parametros si solo se han declarado 3(al momento de correr lap rueba)\n",
    "train_parmams = list(dnc_model.named_parameters())\n",
    "\n",
    "for train_param in train_parmams:\n",
    "    print(train_param[0])"
   ]
  },
  {
   "cell_type": "code",
   "execution_count": 14,
   "metadata": {},
   "outputs": [
    {
     "data": {
      "text/plain": [
       "tensor([[0., 0., 0., 0., 0.],\n",
       "        [0., 0., 0., 0., 0.],\n",
       "        [0., 0., 0., 0., 0.],\n",
       "        [0., 0., 0., 0., 0.],\n",
       "        [0., 0., 0., 0., 0.]], device='cuda:0')"
      ]
     },
     "execution_count": 14,
     "metadata": {},
     "output_type": "execute_result"
    }
   ],
   "source": [
    "dnc_model.memory_matrix.data\n"
   ]
  },
  {
   "cell_type": "markdown",
   "metadata": {},
   "source": [
    "Meta (por detallar))\n",
    "* L temporal link matrix"
   ]
  },
  {
   "cell_type": "code",
   "execution_count": 15,
   "metadata": {},
   "outputs": [],
   "source": [
    "###"
   ]
  },
  {
   "cell_type": "markdown",
   "metadata": {},
   "source": [
    "### LSTM con conv\n",
    "* Experimentando con lstm alimentando una imagen a la vez en orden aleatorio con pacientes también en orden aleatorio\n",
    "\n",
    "El vector de entrada de la lstm es un vector producido por una convnet"
   ]
  },
  {
   "cell_type": "code",
   "execution_count": 16,
   "metadata": {},
   "outputs": [],
   "source": [
    "CONVNET_OUTPUT_SIZE = 1024\n",
    "CONVNET_HIDDEN_SIZE = 1024\n",
    "\n",
    "LSTM_HIDDEN_SIZE = 1024\n",
    "\n",
    "FINAL_LAYER_SIZE = 1024"
   ]
  },
  {
   "cell_type": "code",
   "execution_count": 17,
   "metadata": {},
   "outputs": [
    {
     "name": "stderr",
     "output_type": "stream",
     "text": [
      "/home/luis/anaconda2/envs/pytorch_challenge/lib/python3.6/site-packages/torchvision-0.2.1-py3.6.egg/torchvision/models/densenet.py:212: UserWarning: nn.init.kaiming_normal is now deprecated in favor of nn.init.kaiming_normal_.\n"
     ]
    }
   ],
   "source": [
    "architecture = 'densenet121'\n",
    "architecture_constructor = getattr(models,architecture)\n",
    "model  =  architecture_constructor(pretrained=True)\n",
    "features_size = list(model.children())[-1].in_features\n",
    "#model"
   ]
  },
  {
   "cell_type": "code",
   "execution_count": 18,
   "metadata": {},
   "outputs": [],
   "source": [
    "\n",
    "#freeze parameters so we don't backpropagete  through them\n",
    "\n",
    "#for parameter in model.parameters():\n",
    "#    parameter.requires_grad = False"
   ]
  },
  {
   "cell_type": "code",
   "execution_count": 19,
   "metadata": {},
   "outputs": [],
   "source": [
    "model_classifier = torch.nn.Sequential(OrderedDict([\n",
    "    (\"fc1\",torch.nn.Linear(features_size,CONVNET_OUTPUT_SIZE)),\n",
    "    #(\"relu\",torch.nn.ReLU()),\n",
    "    #(\"fc2\",torch.nn.Linear(CONVNET_HIDDEN_SIZE,CONVNET_HIDDEN_SIZE)),\n",
    "    #(\"relu2\",torch.nn.ReLU()),\n",
    "    #(\"fc3\",torch.nn.Linear(CONVNET_HIDDEN_SIZE,CONVNET_OUTPUT_SIZE))\n",
    "]))\n",
    "\n",
    "model.classifier = model_classifier"
   ]
  },
  {
   "cell_type": "code",
   "execution_count": 20,
   "metadata": {},
   "outputs": [],
   "source": [
    "class ConvLSTM(nn.Module):\n",
    "    \n",
    "    def __init__(self,conv_net,lstm_layers=1):\n",
    "        super().__init__()\n",
    "        self.conv_net = conv_net\n",
    "        self.lstm = nn.LSTM(input_size= CONVNET_OUTPUT_SIZE,hidden_size = LSTM_HIDDEN_SIZE,num_layers=lstm_layers,batch_first = True)\n",
    "        self.lstm_layers = lstm_layers\n",
    "        self.lstm_hidden_size = LSTM_HIDDEN_SIZE\n",
    "        \n",
    "        self.output_linear = nn.Linear(LSTM_HIDDEN_SIZE,1)\n",
    "    \n",
    "    def forward(self,x,hidden):\n",
    "        x = self.conv_net(x)\n",
    "        x = x.unsqueeze(0)\n",
    "        x,hidden = self.lstm(x,hidden)\n",
    "        x = x.contiguous().view(-1,self.lstm_hidden_size)\n",
    "        \n",
    "        \n",
    "        x = torch.sigmoid(self.output_linear(x))\n",
    "        \n",
    "        return x,hidden\n",
    "    \n",
    "    def init_hidden(self):\n",
    "        weigths =  next(self.lstm.parameters())\n",
    "        \n",
    "        \n",
    "        hidden = ( \n",
    "            weigths.new(self.lstm_layers,1,LSTM_HIDDEN_SIZE).zero_().to(device)\n",
    "        ,   weigths.new(self.lstm_layers,1,LSTM_HIDDEN_SIZE).zero_().to(device)\n",
    "                 )\n",
    "        \n",
    "        return hidden"
   ]
  },
  {
   "cell_type": "code",
   "execution_count": 21,
   "metadata": {},
   "outputs": [],
   "source": [
    "train_data_transforms = transforms.Compose([\n",
    "    transforms.ToPILImage(),\n",
    "    transforms.Resize(255),\n",
    "    transforms.CenterCrop(224),\n",
    "    transforms.ToTensor(),\n",
    "    transforms.Normalize([0.485, 0.456, 0.406],[0.229, 0.224, 0.225])\n",
    "])\n",
    "\n"
   ]
  },
  {
   "cell_type": "code",
   "execution_count": 22,
   "metadata": {},
   "outputs": [],
   "source": [
    "conv_lstm = ConvLSTM(model,lstm_layers=3)\n",
    "conv_lstm.to(device)\n",
    "\n",
    "base_criterion = torch.nn.BCELoss()\n",
    "optimizer = optim.Adam(model.parameters(),lr=0.001)"
   ]
  },
  {
   "cell_type": "code",
   "execution_count": 23,
   "metadata": {},
   "outputs": [],
   "source": [
    "EPOCHS = 200"
   ]
  },
  {
   "cell_type": "code",
   "execution_count": 24,
   "metadata": {},
   "outputs": [
    {
     "name": "stdout",
     "output_type": "stream",
     "text": [
      "Epoch 0: accuracy 0.2 loss:0.7202115058898926\n",
      "Epoch 1: accuracy 0.4 loss:0.7091841697692871\n",
      "Epoch 2: accuracy 0.6 loss:0.685421347618103\n",
      "Epoch 3: accuracy 0.6 loss:0.6858895421028137\n",
      "Epoch 4: accuracy 0.6 loss:0.6836572885513306\n",
      "Epoch 5: accuracy 0.6 loss:0.6773794293403625\n",
      "Epoch 6: accuracy 0.6 loss:0.6748774647712708\n",
      "Epoch 7: accuracy 0.6 loss:0.6741700172424316\n",
      "Epoch 8: accuracy 0.6 loss:0.6762591600418091\n",
      "Epoch 9: accuracy 0.6 loss:0.6683678030967712\n",
      "Epoch 10: accuracy 0.6 loss:0.6682066917419434\n",
      "Epoch 11: accuracy 0.6 loss:0.6652599573135376\n",
      "Epoch 12: accuracy 0.6 loss:0.6606233716011047\n",
      "Epoch 13: accuracy 0.6 loss:0.6673721075057983\n",
      "Epoch 14: accuracy 0.6 loss:0.6660476922988892\n",
      "Epoch 15: accuracy 0.6 loss:0.6823137998580933\n",
      "Epoch 16: accuracy 0.6 loss:0.6723001599311829\n",
      "Epoch 17: accuracy 0.6 loss:0.6631481647491455\n",
      "Epoch 18: accuracy 0.6 loss:0.6602168679237366\n",
      "Epoch 19: accuracy 0.6 loss:0.6536411046981812\n",
      "Epoch 20: accuracy 0.6 loss:0.6603407263755798\n",
      "Epoch 21: accuracy 0.6 loss:0.6701555848121643\n",
      "Epoch 22: accuracy 0.6 loss:0.6694320440292358\n",
      "Epoch 23: accuracy 0.6 loss:0.6655368804931641\n",
      "Epoch 24: accuracy 0.6 loss:0.6566054224967957\n",
      "Epoch 25: accuracy 0.6 loss:0.655150294303894\n",
      "Epoch 26: accuracy 0.6 loss:0.6522138714790344\n",
      "Epoch 27: accuracy 0.6 loss:0.6446203589439392\n",
      "Epoch 28: accuracy 0.6 loss:0.6561510562896729\n",
      "Epoch 29: accuracy 0.6 loss:0.6412042379379272\n",
      "Epoch 30: accuracy 0.6 loss:0.640869140625\n",
      "Epoch 31: accuracy 0.6 loss:0.635370671749115\n",
      "Epoch 32: accuracy 0.6 loss:0.6452541947364807\n",
      "Epoch 33: accuracy 0.6 loss:0.653584361076355\n",
      "Epoch 34: accuracy 0.6 loss:0.6625884771347046\n",
      "Epoch 35: accuracy 0.6 loss:0.6491988897323608\n",
      "Epoch 36: accuracy 0.6 loss:0.646154522895813\n",
      "Epoch 37: accuracy 0.6 loss:0.6372197866439819\n",
      "Epoch 38: accuracy 0.6 loss:0.6244176030158997\n",
      "Epoch 39: accuracy 0.6 loss:0.620536208152771\n",
      "Epoch 40: accuracy 0.6 loss:0.62519371509552\n",
      "Epoch 41: accuracy 0.6 loss:0.6191137433052063\n",
      "Epoch 42: accuracy 0.8 loss:0.6209990978240967\n",
      "Epoch 43: accuracy 1.0 loss:0.6181575655937195\n",
      "Epoch 44: accuracy 1.0 loss:0.6149230003356934\n",
      "Epoch 45: accuracy 0.6 loss:0.6739775538444519\n",
      "Epoch 46: accuracy 0.6 loss:0.6609118580818176\n",
      "Epoch 47: accuracy 1.0 loss:0.6163764595985413\n",
      "Epoch 48: accuracy 1.0 loss:0.5987921953201294\n",
      "Epoch 49: accuracy 1.0 loss:0.5950328707695007\n",
      "Epoch 50: accuracy 1.0 loss:0.5846935510635376\n",
      "Epoch 51: accuracy 1.0 loss:0.5746422410011292\n",
      "Epoch 52: accuracy 1.0 loss:0.5715915560722351\n",
      "Epoch 53: accuracy 1.0 loss:0.5674896240234375\n",
      "Epoch 54: accuracy 1.0 loss:0.564473032951355\n",
      "Epoch 55: accuracy 1.0 loss:0.5646360516548157\n",
      "Epoch 56: accuracy 1.0 loss:0.564349353313446\n",
      "Epoch 57: accuracy 0.8 loss:0.5905438661575317\n",
      "Epoch 58: accuracy 1.0 loss:0.5558677911758423\n",
      "Epoch 59: accuracy 1.0 loss:0.5555036067962646\n",
      "Epoch 60: accuracy 1.0 loss:0.5455140471458435\n",
      "Epoch 61: accuracy 1.0 loss:0.5449825525283813\n",
      "Epoch 62: accuracy 1.0 loss:0.537168025970459\n",
      "Epoch 63: accuracy 1.0 loss:0.5324614644050598\n",
      "Epoch 64: accuracy 1.0 loss:0.5286893248558044\n",
      "Epoch 65: accuracy 1.0 loss:0.5244770050048828\n",
      "Epoch 66: accuracy 1.0 loss:0.5203099250793457\n",
      "Epoch 67: accuracy 1.0 loss:0.5175238847732544\n",
      "Epoch 68: accuracy 1.0 loss:0.5146669745445251\n",
      "Epoch 69: accuracy 1.0 loss:0.511940598487854\n",
      "Epoch 70: accuracy 1.0 loss:0.509262204170227\n",
      "Epoch 71: accuracy 1.0 loss:0.5072506666183472\n",
      "Epoch 72: accuracy 1.0 loss:0.5048864483833313\n",
      "Epoch 73: accuracy 1.0 loss:0.5032109618186951\n",
      "Epoch 74: accuracy 1.0 loss:0.5012607574462891\n",
      "Epoch 75: accuracy 1.0 loss:0.4996175765991211\n",
      "Epoch 76: accuracy 1.0 loss:0.49819231033325195\n",
      "Epoch 77: accuracy 1.0 loss:0.496969997882843\n",
      "Epoch 78: accuracy 1.0 loss:0.495758056640625\n",
      "Epoch 79: accuracy 1.0 loss:0.49460530281066895\n",
      "Epoch 80: accuracy 1.0 loss:0.4935186505317688\n",
      "Epoch 81: accuracy 1.0 loss:0.49226388335227966\n",
      "Epoch 82: accuracy 1.0 loss:0.4910755753517151\n",
      "Epoch 83: accuracy 1.0 loss:0.49004167318344116\n",
      "Epoch 84: accuracy 1.0 loss:0.4891003966331482\n",
      "Epoch 85: accuracy 1.0 loss:0.48795557022094727\n",
      "Epoch 86: accuracy 1.0 loss:0.48677387833595276\n",
      "Epoch 87: accuracy 1.0 loss:0.48510798811912537\n",
      "Epoch 88: accuracy 1.0 loss:0.48415040969848633\n",
      "Epoch 89: accuracy 1.0 loss:0.48312681913375854\n",
      "Epoch 90: accuracy 1.0 loss:0.48243531584739685\n",
      "Epoch 91: accuracy 1.0 loss:0.48134487867355347\n",
      "Epoch 92: accuracy 1.0 loss:0.48034611344337463\n",
      "Epoch 93: accuracy 1.0 loss:0.4794146418571472\n",
      "Epoch 94: accuracy 1.0 loss:0.47867900133132935\n",
      "Epoch 95: accuracy 1.0 loss:0.47799772024154663\n",
      "Epoch 96: accuracy 1.0 loss:0.4772506654262543\n",
      "Epoch 97: accuracy 1.0 loss:0.47638779878616333\n",
      "Epoch 98: accuracy 1.0 loss:0.4757615029811859\n",
      "Epoch 99: accuracy 1.0 loss:0.4748510718345642\n",
      "Epoch 100: accuracy 1.0 loss:0.4740470051765442\n",
      "Epoch 101: accuracy 1.0 loss:0.4731271266937256\n",
      "Epoch 102: accuracy 1.0 loss:0.47226423025131226\n",
      "Epoch 103: accuracy 1.0 loss:0.47135648131370544\n",
      "Epoch 104: accuracy 1.0 loss:0.470716655254364\n",
      "Epoch 105: accuracy 1.0 loss:0.4699636399745941\n",
      "Epoch 106: accuracy 1.0 loss:0.4691123962402344\n",
      "Epoch 107: accuracy 1.0 loss:0.46829739212989807\n",
      "Epoch 108: accuracy 1.0 loss:0.4675760865211487\n",
      "Epoch 109: accuracy 1.0 loss:0.46689239144325256\n",
      "Epoch 110: accuracy 1.0 loss:0.46616387367248535\n",
      "Epoch 111: accuracy 1.0 loss:0.4655476212501526\n",
      "Epoch 112: accuracy 1.0 loss:0.4649356007575989\n",
      "Epoch 113: accuracy 1.0 loss:0.46470651030540466\n",
      "Epoch 114: accuracy 1.0 loss:0.4655703604221344\n",
      "Epoch 115: accuracy 1.0 loss:0.46863383054733276\n",
      "Epoch 116: accuracy 1.0 loss:0.4686136245727539\n",
      "Epoch 117: accuracy 1.0 loss:0.4680185317993164\n",
      "Epoch 118: accuracy 1.0 loss:0.46706700325012207\n",
      "Epoch 119: accuracy 1.0 loss:0.4658675193786621\n",
      "Epoch 120: accuracy 1.0 loss:0.46482986211776733\n",
      "Epoch 121: accuracy 1.0 loss:0.46389442682266235\n",
      "Epoch 122: accuracy 1.0 loss:0.4631202220916748\n",
      "Epoch 123: accuracy 1.0 loss:0.46258002519607544\n",
      "Epoch 124: accuracy 1.0 loss:0.4620395302772522\n",
      "Epoch 125: accuracy 1.0 loss:0.4614708423614502\n",
      "Epoch 126: accuracy 1.0 loss:0.4610597491264343\n",
      "Epoch 127: accuracy 1.0 loss:0.4605732560157776\n",
      "Epoch 128: accuracy 1.0 loss:0.4601464867591858\n",
      "Epoch 129: accuracy 1.0 loss:0.4597337245941162\n",
      "Epoch 130: accuracy 1.0 loss:0.45938271284103394\n",
      "Epoch 131: accuracy 1.0 loss:0.45901617407798767\n",
      "Epoch 132: accuracy 1.0 loss:0.4586084485054016\n",
      "Epoch 133: accuracy 1.0 loss:0.4581824243068695\n",
      "Epoch 134: accuracy 1.0 loss:0.45766615867614746\n",
      "Epoch 135: accuracy 1.0 loss:0.4572877287864685\n",
      "Epoch 136: accuracy 1.0 loss:0.4568626880645752\n",
      "Epoch 137: accuracy 1.0 loss:0.4564453661441803\n",
      "Epoch 138: accuracy 1.0 loss:0.4560144543647766\n",
      "Epoch 139: accuracy 1.0 loss:0.4555814862251282\n",
      "Epoch 140: accuracy 1.0 loss:0.4555140435695648\n",
      "Epoch 141: accuracy 1.0 loss:0.46460455656051636\n",
      "Epoch 142: accuracy 1.0 loss:0.4752422869205475\n",
      "Epoch 143: accuracy 1.0 loss:0.48048916459083557\n",
      "Epoch 144: accuracy 1.0 loss:0.47764062881469727\n",
      "Epoch 145: accuracy 1.0 loss:0.4754965901374817\n",
      "Epoch 146: accuracy 1.0 loss:0.47525453567504883\n",
      "Epoch 147: accuracy 1.0 loss:0.47285881638526917\n",
      "Epoch 148: accuracy 1.0 loss:0.4706975817680359\n",
      "Epoch 149: accuracy 1.0 loss:0.46885770559310913\n",
      "Epoch 150: accuracy 1.0 loss:0.46778783202171326\n",
      "Epoch 151: accuracy 1.0 loss:0.468416303396225\n",
      "Epoch 152: accuracy 1.0 loss:0.471190869808197\n",
      "Epoch 153: accuracy 1.0 loss:0.47333741188049316\n",
      "Epoch 154: accuracy 1.0 loss:0.47216933965682983\n",
      "Epoch 155: accuracy 1.0 loss:0.4712253212928772\n",
      "Epoch 156: accuracy 1.0 loss:0.476823091506958\n",
      "Epoch 157: accuracy 1.0 loss:0.4787835478782654\n",
      "Epoch 158: accuracy 1.0 loss:0.47625431418418884\n",
      "Epoch 159: accuracy 1.0 loss:0.4740622639656067\n",
      "Epoch 160: accuracy 1.0 loss:0.47137561440467834\n",
      "Epoch 161: accuracy 1.0 loss:0.469425767660141\n",
      "Epoch 162: accuracy 1.0 loss:0.4673648774623871\n",
      "Epoch 163: accuracy 1.0 loss:0.4659598767757416\n",
      "Epoch 164: accuracy 1.0 loss:0.4646182060241699\n",
      "Epoch 165: accuracy 1.0 loss:0.46338748931884766\n",
      "Epoch 166: accuracy 1.0 loss:0.46229618787765503\n",
      "Epoch 167: accuracy 1.0 loss:0.4612860679626465\n",
      "Epoch 168: accuracy 1.0 loss:0.4599960744380951\n",
      "Epoch 169: accuracy 1.0 loss:0.45918741822242737\n",
      "Epoch 170: accuracy 1.0 loss:0.45843440294265747\n",
      "Epoch 171: accuracy 1.0 loss:0.4575742781162262\n",
      "Epoch 172: accuracy 1.0 loss:0.45686277747154236\n"
     ]
    },
    {
     "name": "stdout",
     "output_type": "stream",
     "text": [
      "Epoch 173: accuracy 1.0 loss:0.45623859763145447\n",
      "Epoch 174: accuracy 1.0 loss:0.45570677518844604\n",
      "Epoch 175: accuracy 1.0 loss:0.45522230863571167\n",
      "Epoch 176: accuracy 1.0 loss:0.4548094868659973\n",
      "Epoch 177: accuracy 1.0 loss:0.45410099625587463\n",
      "Epoch 178: accuracy 1.0 loss:0.4532833695411682\n",
      "Epoch 179: accuracy 1.0 loss:0.4530586302280426\n",
      "Epoch 180: accuracy 1.0 loss:0.45271262526512146\n",
      "Epoch 181: accuracy 1.0 loss:0.45242491364479065\n",
      "Epoch 182: accuracy 1.0 loss:0.4521546959877014\n",
      "Epoch 183: accuracy 1.0 loss:0.45189303159713745\n",
      "Epoch 184: accuracy 1.0 loss:0.45164400339126587\n",
      "Epoch 185: accuracy 1.0 loss:0.4513300061225891\n",
      "Epoch 186: accuracy 1.0 loss:0.4510611891746521\n",
      "Epoch 187: accuracy 1.0 loss:0.4507792592048645\n",
      "Epoch 188: accuracy 1.0 loss:0.450503408908844\n",
      "Epoch 189: accuracy 1.0 loss:0.4502216875553131\n",
      "Epoch 190: accuracy 1.0 loss:0.4499603807926178\n",
      "Epoch 191: accuracy 1.0 loss:0.4497506022453308\n",
      "Epoch 192: accuracy 1.0 loss:0.44954317808151245\n",
      "Epoch 193: accuracy 1.0 loss:0.44933396577835083\n",
      "Epoch 194: accuracy 1.0 loss:0.44914835691452026\n",
      "Epoch 195: accuracy 1.0 loss:0.44896775484085083\n",
      "Epoch 196: accuracy 1.0 loss:0.4487592279911041\n",
      "Epoch 197: accuracy 1.0 loss:0.44854649901390076\n",
      "Epoch 198: accuracy 1.0 loss:0.4483189582824707\n",
      "Epoch 199: accuracy 1.0 loss:0.44805312156677246\n",
      "[0.7202115, 0.70918417, 0.68542135, 0.68588954, 0.6836573, 0.6773794, 0.67487746, 0.67417, 0.67625916, 0.6683678, 0.6682067, 0.66525996, 0.6606234, 0.6673721, 0.6660477, 0.6823138, 0.67230016, 0.66314816, 0.66021687, 0.6536411, 0.6603407, 0.6701556, 0.66943204, 0.6655369, 0.6566054, 0.6551503, 0.6522139, 0.64462036, 0.65615106, 0.64120424, 0.64086914, 0.6353707, 0.6452542, 0.65358436, 0.6625885, 0.6491989, 0.6461545, 0.6372198, 0.6244176, 0.6205362, 0.6251937, 0.61911374, 0.6209991, 0.61815757, 0.614923, 0.67397755, 0.66091186, 0.61637646, 0.5987922, 0.5950329, 0.58469355, 0.57464224, 0.57159156, 0.5674896, 0.56447303, 0.56463605, 0.56434935, 0.59054387, 0.5558678, 0.5555036, 0.54551405, 0.54498255, 0.537168, 0.53246146, 0.5286893, 0.524477, 0.5203099, 0.5175239, 0.514667, 0.5119406, 0.5092622, 0.50725067, 0.50488645, 0.50321096, 0.50126076, 0.49961758, 0.4981923, 0.49697, 0.49575806, 0.4946053, 0.49351865, 0.49226388, 0.49107558, 0.49004167, 0.4891004, 0.48795557, 0.48677388, 0.485108, 0.4841504, 0.48312682, 0.48243532, 0.48134488, 0.4803461, 0.47941464, 0.478679, 0.47799772, 0.47725067, 0.4763878, 0.4757615, 0.47485107, 0.474047, 0.47312713, 0.47226423, 0.47135648, 0.47071666, 0.46996364, 0.4691124, 0.4682974, 0.4675761, 0.4668924, 0.46616387, 0.46554762, 0.4649356, 0.4647065, 0.46557036, 0.46863383, 0.46861362, 0.46801853, 0.467067, 0.46586752, 0.46482986, 0.46389443, 0.46312022, 0.46258003, 0.46203953, 0.46147084, 0.46105975, 0.46057326, 0.4601465, 0.45973372, 0.4593827, 0.45901617, 0.45860845, 0.45818242, 0.45766616, 0.45728773, 0.4568627, 0.45644537, 0.45601445, 0.4555815, 0.45551404, 0.46460456, 0.4752423, 0.48048916, 0.47764063, 0.4754966, 0.47525454, 0.47285882, 0.47069758, 0.4688577, 0.46778783, 0.4684163, 0.47119087, 0.4733374, 0.47216934, 0.47122532, 0.4768231, 0.47878355, 0.4762543, 0.47406226, 0.4713756, 0.46942577, 0.46736488, 0.46595988, 0.4646182, 0.4633875, 0.4622962, 0.46128607, 0.45999607, 0.45918742, 0.4584344, 0.45757428, 0.45686278, 0.4562386, 0.45570678, 0.4552223, 0.4548095, 0.454101, 0.45328337, 0.45305863, 0.45271263, 0.4524249, 0.4521547, 0.45189303, 0.451644, 0.45133, 0.4510612, 0.45077926, 0.4505034, 0.4502217, 0.44996038, 0.4497506, 0.44954318, 0.44933397, 0.44914836, 0.44896775, 0.44875923, 0.4485465, 0.44831896, 0.44805312]\n",
      "[0.2, 0.4, 0.6, 0.6, 0.6, 0.6, 0.6, 0.6, 0.6, 0.6, 0.6, 0.6, 0.6, 0.6, 0.6, 0.6, 0.6, 0.6, 0.6, 0.6, 0.6, 0.6, 0.6, 0.6, 0.6, 0.6, 0.6, 0.6, 0.6, 0.6, 0.6, 0.6, 0.6, 0.6, 0.6, 0.6, 0.6, 0.6, 0.6, 0.6, 0.6, 0.6, 0.8, 1.0, 1.0, 0.6, 0.6, 1.0, 1.0, 1.0, 1.0, 1.0, 1.0, 1.0, 1.0, 1.0, 1.0, 0.8, 1.0, 1.0, 1.0, 1.0, 1.0, 1.0, 1.0, 1.0, 1.0, 1.0, 1.0, 1.0, 1.0, 1.0, 1.0, 1.0, 1.0, 1.0, 1.0, 1.0, 1.0, 1.0, 1.0, 1.0, 1.0, 1.0, 1.0, 1.0, 1.0, 1.0, 1.0, 1.0, 1.0, 1.0, 1.0, 1.0, 1.0, 1.0, 1.0, 1.0, 1.0, 1.0, 1.0, 1.0, 1.0, 1.0, 1.0, 1.0, 1.0, 1.0, 1.0, 1.0, 1.0, 1.0, 1.0, 1.0, 1.0, 1.0, 1.0, 1.0, 1.0, 1.0, 1.0, 1.0, 1.0, 1.0, 1.0, 1.0, 1.0, 1.0, 1.0, 1.0, 1.0, 1.0, 1.0, 1.0, 1.0, 1.0, 1.0, 1.0, 1.0, 1.0, 1.0, 1.0, 1.0, 1.0, 1.0, 1.0, 1.0, 1.0, 1.0, 1.0, 1.0, 1.0, 1.0, 1.0, 1.0, 1.0, 1.0, 1.0, 1.0, 1.0, 1.0, 1.0, 1.0, 1.0, 1.0, 1.0, 1.0, 1.0, 1.0, 1.0, 1.0, 1.0, 1.0, 1.0, 1.0, 1.0, 1.0, 1.0, 1.0, 1.0, 1.0, 1.0, 1.0, 1.0, 1.0, 1.0, 1.0, 1.0, 1.0, 1.0, 1.0, 1.0, 1.0, 1.0, 1.0, 1.0, 1.0, 1.0, 1.0, 1.0]\n"
     ]
    }
   ],
   "source": [
    "\n",
    "total_accuracies  = []\n",
    "total_losses = []\n",
    "\n",
    "conv_lstm.train()\n",
    "for epoch in range(EPOCHS):\n",
    "    \n",
    "    \n",
    "    epoch_predictions = []\n",
    "    epoch_real_values = []\n",
    "    epoch_losses = []\n",
    "    # en cada epoch procesar los pacientes en orden aleatorio\n",
    "    pacientes = np.random.choice(np.array(diagnosticos.paciente),size= len(diagnosticos.paciente),replace=False)\n",
    "    \n",
    "    conteo_pacientes = 0\n",
    "    for paciente in pacientes:\n",
    "        #TODO: remover esta validacion, solo puesta para probar una unica iteracion en compu lenta\n",
    "        if conteo_pacientes >= 99999999:\n",
    "            break\n",
    "        h = conv_lstm.init_hidden()\n",
    "        \n",
    "        \n",
    "        h = tuple([each.data for each in h])\n",
    "        conv_lstm.zero_grad()\n",
    "        imagenes_paciente = diccionario_imagenes_pacientes.get(paciente)\n",
    "        diagnostico_hemorragia_paciente = np.array(float(diagnosticos[diagnosticos.paciente==paciente].hemorragia))\n",
    "        tensor_diagnostico_hemorragia_paciente = torch.Tensor(diagnostico_hemorragia_paciente).view((1,1)).to(device)\n",
    "        \n",
    "        indices_imagenes_pacientes = np.arange(0,len(imagenes_paciente)-1,step=1)\n",
    "        indices_aleatorios_imagenes = np.random.choice(indices_imagenes_pacientes,len(indices_imagenes_pacientes),replace=False)\n",
    "        \n",
    "        losses = []\n",
    "        for indice in indices_aleatorios_imagenes:\n",
    "            #h = tuple([each.data for each in h])\n",
    "            last_image =  int(indice  == indices_aleatorios_imagenes[-1])\n",
    "            \n",
    "            #optimizer.zero_grad()\n",
    "            \n",
    "            imagen_paciente =  np.expand_dims(imagenes_paciente[indice],2)\n",
    "            imagen_paciente =  np.repeat(imagen_paciente,3,axis=2)\n",
    "               \n",
    "            tensor_imagen_paciente =  train_data_transforms(imagen_paciente).unsqueeze(0).to(device)\n",
    "            \n",
    "            \n",
    "            #print(\"Alimentando paciente {} e imagen {} al modelo\".format(paciente,indice),imagen_paciente.shape)\n",
    "            \n",
    "            diagnostico_hemorragia_aproximado,h  = conv_lstm(tensor_imagen_paciente,h)\n",
    "            \n",
    "            \n",
    "            #loss = base_criterion(diagnostico_hemorragia_aproximado,tensor_diagnostico_hemorragia_paciente)\n",
    "            \n",
    "            #losses.append(loss.view((1,1)))\n",
    "            \n",
    "            if last_image:\n",
    "                \n",
    "                loss =  base_criterion(diagnostico_hemorragia_aproximado,tensor_diagnostico_hemorragia_paciente)\n",
    "                loss.backward()\n",
    "                nn.utils.clip_grad_norm_(conv_lstm.lstm.parameters(), 5.0)\n",
    "                optimizer.step()\n",
    "                \n",
    "                y_hat = diagnostico_hemorragia_aproximado.data.cpu().numpy()[0][0]\n",
    "                y_hat_hard = float(y_hat >= 0.5)\n",
    "                epoch_predictions.append(y_hat_hard)\n",
    "                epoch_real_values.append(float(diagnostico_hemorragia_paciente))\n",
    "                \n",
    "                #print(\"--Flag ultima imagen:{} diagnostico:{} valor real{}\".format(last_image,y_hat,diagnostico_hemorragia_paciente))\n",
    "                #optimizer.zero_grad()\n",
    "                \n",
    "                #patient_loss = torch.cat(losses).mean()\n",
    "                \n",
    "                \n",
    "                #patient_loss.backward()\n",
    "                #loss.backward()\n",
    "                #nn.utils.clip_grad_norm_(conv_lstm.lstm.parameters(), 5.0)\n",
    "                #optimizer.step()\n",
    "                \n",
    "                epoch_losses.append(loss.data.cpu().numpy())\n",
    "\n",
    "                \n",
    "        conteo_pacientes += 1\n",
    "        \n",
    "            \n",
    "    epoch_predictions = np.array(epoch_predictions)\n",
    "    epoch_real_values = np.array(epoch_real_values)\n",
    "    correct_predictions = epoch_predictions == epoch_real_values\n",
    "    accuracy = np.average(correct_predictions)\n",
    "    epoch_avg_loss = np.average(epoch_losses)\n",
    "    total_losses.append(epoch_avg_loss)\n",
    "    \n",
    "    total_accuracies.append(accuracy)\n",
    "    print(\"Epoch {}: accuracy {} loss:{}\".format(epoch,accuracy,epoch_avg_loss))\n",
    "\n",
    "#print(np.average(total_accuracies))\n",
    "print(total_losses)\n",
    "print(total_accuracies)"
   ]
  },
  {
   "cell_type": "code",
   "execution_count": 25,
   "metadata": {},
   "outputs": [
    {
     "data": {
      "image/png": "[encoded data removed]",
      "text/plain": [
       "<Figure size 432x288 with 1 Axes>"
      ]
     },
     "metadata": {
      "needs_background": "light"
     },
     "output_type": "display_data"
    }
   ],
   "source": [
    "plt.plot(total_losses)\n",
    "plt.show()"
   ]
  },
  {
   "cell_type": "code",
   "execution_count": 26,
   "metadata": {},
   "outputs": [
    {
     "data": {
      "image/png": "[encoded data removed]",
      "text/plain": [
       "<Figure size 432x288 with 1 Axes>"
      ]
     },
     "metadata": {
      "needs_background": "light"
     },
     "output_type": "display_data"
    }
   ],
   "source": [
    "plt.plot(total_accuracies)\n",
    "plt.show()"
   ]
  },
  {
   "cell_type": "markdown",
   "metadata": {},
   "source": [
    "## Resultados\n",
    "* El mejor resultado hasta ahora ha sido no congelar pesos(entranar toda la convnet densenet121) agregandole una sola capa fully connected de salida, y 3 layers en la lstm, todas las capas con 1024 de tamaño. Lr = 0.001"
   ]
  },
  {
   "cell_type": "markdown",
   "metadata": {},
   "source": [
    "## Ideas\n",
    "* Normalizar  el allocation weighitng con sofmax(en la primera iteración asigna todo el peso a la primera posición de memoria)\n",
    "* Usar arquitectura similar a dueling network o inception para tener 2 caminos en las entradas.\n",
    "* Cambiar el modelo original para leer antes que escribir y usar lo leido para sacar una predicción en ese punto en el tiempo(el modelo original lee de la memoria despues de escribir y usa la info leida en el siguiente paso)"
   ]
  }
 ],
 "metadata": {
  "kernelspec": {
   "display_name": "Python 3",
   "language": "python",
   "name": "python3"
  },
  "language_info": {
   "codemirror_mode": {
    "name": "ipython",
    "version": 3
   },
   "file_extension": ".py",
   "mimetype": "text/x-python",
   "name": "python",
   "nbconvert_exporter": "python",
   "pygments_lexer": "ipython3",
   "version": "3.6.6"
  }
 },
 "nbformat": 4,
 "nbformat_minor": 2
}
